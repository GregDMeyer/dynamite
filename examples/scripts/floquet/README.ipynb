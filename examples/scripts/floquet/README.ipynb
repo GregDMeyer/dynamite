{
 "cells": [
  {
   "cell_type": "markdown",
   "id": "25f5176c-7180-4024-9f1f-83c30bd28e39",
   "metadata": {},
   "source": [
    "# Floquet\n",
    "\n",
    "## Model\n",
    "\n",
    "In this project we will track the time evolution of various states under a time-dependent Floquet Hamiltonian. This system is physically interesting for a number of reasons, not least of which that it can exhibit [Floquet prethermalization](https://doi.org/10.1103/PhysRevResearch.1.033202), which can support out-of-equilibrium phases of matter like [time crystals](https://journals.aps.org/prx/abstract/10.1103/PhysRevX.10.011043)!\n",
    "\n",
    "The specific model we will implement is the following. The 1D spin chain will evolve under a long range $ZZ$ interaction decaying as a power law, along with a nearest-neighbor $XX$ interaction and a uniform, static magnetic field $\\vec{h}$:\n",
    "$$H = J_z \\sum_{i,j} \\frac{\\sigma^z_i \\sigma^z_j}{|i-j|^\\alpha} + J_x \\sum_{\\langle i, j \\rangle} \\sigma^x_i + \\sum_i \\vec{h} \\cdot \\vec{\\sigma}$$\n",
    "where the angle brackets on the second term indicates it is only a nearest-neighbor interaction.\n",
    "\n",
    "In addition, after every period $T$ of time evolution the system will undergo a global $\\pi$-pulse, rotating all spins by $180^\\circ$ around the $X$-axis. (We can equivalently think of this as flipping the direction of the magnetic field $\\vec{h}$ across the $X$ axis every time $T$).\n",
    "\n",
    "The Hamiltonian $H$ is implemented in `build_hamiltonian` in `run_floquet.py`:"
   ]
  },
  {
   "cell_type": "code",
   "execution_count": 1,
   "id": "372654a2-1faf-4f35-8384-77269ac594da",
   "metadata": {
    "tags": []
   },
   "outputs": [
    {
     "data": {
      "text/latex": [
       "$1\\left(1\\left[\\sum_{i=0}^{10}\\sigma^z_{i}\\sigma^z_{i+1}\\right] + 0.42\\left[\\sum_{i=0}^{9}\\sigma^z_{i}\\sigma^z_{i+2}\\right] + 0.253\\left[\\sum_{i=0}^{8}\\sigma^z_{i}\\sigma^z_{i+3}\\right] + \\cdots\\right) + 0.2\\left[\\sum_{i=0}^{10}\\sigma^x_{i}\\sigma^x_{i+1}\\right] + \\sum_{i=0}^{11}\\left(0.2\\sigma^x_{i} + 0.15\\sigma^y_{i} + 0.1\\sigma^z_{i}\\right)$"
      ],
      "text/plain": [
       "<Operator on 12 spins: 1(1[index_sum(σz[0]*σz[1], sites 0 - 10)] + 0.42[index_sum(σz[0]*σz[2], sites 0 - 9)] + 0.253[index_sum(σz[0]*σz[3], sites 0 - 8)] + ...) + 0.2[index_sum(σx[0]*σx[1], sites 0 - 10)] + index_sum(0.2σx[0] + 0.15σy[0] + 0.1σz[0], sites 0 - 11)>"
      ]
     },
     "execution_count": 1,
     "metadata": {},
     "output_type": "execute_result"
    }
   ],
   "source": [
    "from run_floquet import build_hamiltonian\n",
    "\n",
    "# for this one its easiest to just globally set L\n",
    "from dynamite import config\n",
    "config.L = 12\n",
    "\n",
    "build_hamiltonian(1.25, 1, 0.2, (0.2, 0.15, 0.1))"
   ]
  },
  {
   "cell_type": "markdown",
   "id": "8515ea15-9dbe-4df0-ae29-14f9e683f8d7",
   "metadata": {},
   "source": [
    "and the global pi-pulse is simply a multiplication by the all-Pauli-$X$ string:"
   ]
  },
  {
   "cell_type": "code",
   "execution_count": 5,
   "id": "1ee76dfa-b3ab-4e4a-8605-90a9ad3630ee",
   "metadata": {
    "tags": []
   },
   "outputs": [
    {
     "data": {
      "text/latex": [
       "$\\prod_{i=0}^{11}\\sigma^x_{i}$"
      ],
      "text/plain": [
       "<Operator on 12 spins: index_product(σx[0], sites 0 - 11)>"
      ]
     },
     "execution_count": 5,
     "metadata": {},
     "output_type": "execute_result"
    }
   ],
   "source": [
    "from dynamite.operators import sigmax, index_product\n",
    "\n",
    "pi_pulse = index_product(sigmax())\n",
    "pi_pulse"
   ]
  },
  {
   "cell_type": "markdown",
   "id": "2fa5743f-e14c-4d51-8798-c3baee7d6896",
   "metadata": {},
   "source": [
    "## Goals\n",
    "\n",
    "The actual numerics here are pretty straightforward: we will evolve an initial state under the above Floquet model, and at every time $T$ we will compute various statistics about the state, such as expectation values of operators and the entanglement entropy. We will also observe the \"energy\" of the state with respect to the Hamiltonian averaged over a full cycle of length $2T$:\n",
    "$$D_\\mathrm{eff} = J_z \\sum_{i,j} \\frac{\\sigma^z_i \\sigma^z_j}{|i-j|^\\alpha} + J_x \\sum_{\\langle i, j \\rangle} \\sigma^x_i + \\sum_i h_x \\sigma_x$$\n",
    "That is, the $h_y$ and $h_z$ terms approximately average to zero. \n",
    "\n",
    "Of course, since we are driving the system and there is no dissipation, the temperature will eventually go to infinity. However, we hope to observe that for the right frequency (inverse of the period $T$) we should see a \"prethermal plateau\" in which the system first thermalizes with respect to the $D_\\mathrm{eff}$, but the expectation value $\\langle D_\\mathrm{eff} \\rangle$ is approximately conserved. This is *Floquet prethermalization*---the system thermalizes early with respect to an approximate Hamiltonian, and only much later thermalizes to the infinite temperature state.\n",
    "\n",
    "## Usage\n",
    "\n",
    "## Checkpointing\n"
   ]
  }
 ],
 "metadata": {
  "kernelspec": {
   "display_name": "Python 3 (ipykernel)",
   "language": "python",
   "name": "python3"
  },
  "language_info": {
   "codemirror_mode": {
    "name": "ipython",
    "version": 3
   },
   "file_extension": ".py",
   "mimetype": "text/x-python",
   "name": "python",
   "nbconvert_exporter": "python",
   "pygments_lexer": "ipython3",
   "version": "3.11.2"
  }
 },
 "nbformat": 4,
 "nbformat_minor": 5
}
