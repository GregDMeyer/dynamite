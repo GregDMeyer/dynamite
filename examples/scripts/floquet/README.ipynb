{
 "cells": [
  {
   "cell_type": "markdown",
   "id": "25f5176c-7180-4024-9f1f-83c30bd28e39",
   "metadata": {},
   "source": [
    "# Floquet\n",
    "\n",
    "## In this example\n",
    "\n",
    " - Initializing product states\n",
    " - Time evolution under piecewise Hamiltonians\n",
    " - Computing entanglement entropy\n",
    " - Computing expectation values\n",
    " - Tracking each of the above throughout an evolution\n",
    " - Checkpointing and restarting from a checkpoint\n",
    " \n",
    "## Overview\n",
    "\n",
    "In this project we will track the time evolution of various states under a time-dependent Floquet Hamiltonian. The quantum system we analyze is physically interesting for a number of reasons, not least of which that it can exhibit Floquet prethermalization,[<sup>1</sup>](#ref1) which can support out-of-equilibrium phases of matter like time crystals! [<sup>2</sup>](#ref2)\n",
    "\n",
    "The specific model we will implement is the following. The 1D spin chain will evolve under a long range $ZZ$ interaction decaying as a power law, along with a nearest-neighbor $XX$ interaction and a uniform, static magnetic field $\\vec{h}$:\n",
    "$$H = J_z \\sum_{i < j} \\frac{\\sigma^z_i \\sigma^z_j}{|i-j|^\\alpha} + J_x \\sum_{\\langle i, j \\rangle} \\sigma^x_i + \\sum_i \\vec{h} \\cdot \\vec{\\sigma}$$\n",
    "where the angle brackets on the second term indicates it is only a nearest-neighbor interaction.\n",
    "\n",
    "In addition, after every period $T$ of time evolution the system will undergo a global $\\pi$-pulse, rotating all spins by $180^\\circ$ around the $X$-axis. (We can equivalently think of this as flipping the direction of the magnetic field $\\vec{h}$ across the $X$ axis every time $T$).\n",
    "\n",
    "The Hamiltonian $H$ is implemented in `build_hamiltonian` in `run_floquet.py`:"
   ]
  },
  {
   "cell_type": "code",
   "execution_count": 1,
   "id": "372654a2-1faf-4f35-8384-77269ac594da",
   "metadata": {
    "tags": []
   },
   "outputs": [
    {
     "data": {
      "text/latex": [
       "$\\sum\\limits_{i=0}^{10}0.25\\sigma^z_{i}\\sigma^z_{i+1} + 0.42\\left[\\sum\\limits_{i=0}^{9}0.25\\sigma^z_{i}\\sigma^z_{i+2}\\right] + 0.253\\left[\\sum\\limits_{i=0}^{8}0.25\\sigma^z_{i}\\sigma^z_{i+3}\\right] + \\cdots + 0.2\\left[\\sum\\limits_{i=0}^{10}0.25\\sigma^x_{i}\\sigma^x_{i+1}\\right] + \\sum\\limits_{i=0}^{11}\\left(0.1\\sigma^x_{i} + 0.075\\sigma^y_{i} + 0.05\\sigma^z_{i}\\right)$"
      ],
      "text/plain": [
       "<Operator on 12 spins: index_sum(0.25σz[0]*σz[1], sites 0 - 10) + 0.42[index_sum(0.25σz[0]*σz[2], sites 0 - 9)] + 0.253[index_sum(0.25σz[0]*σz[3], sites 0 - 8)] + ... + 0.2[index_sum(0.25σx[0]*σx[1], sites 0 - 10)] + index_sum(0.1σx[0] + 0.075σy[0] + 0.05σz[0], sites 0 - 11)>"
      ]
     },
     "execution_count": 1,
     "metadata": {},
     "output_type": "execute_result"
    }
   ],
   "source": [
    "from run_floquet import build_hamiltonian\n",
    "\n",
    "# for this one its easiest to just globally set L\n",
    "from dynamite import config\n",
    "config.L = 12\n",
    "\n",
    "build_hamiltonian(1.25, 1, 0.2, (0.2, 0.15, 0.1))"
   ]
  },
  {
   "cell_type": "markdown",
   "id": "8515ea15-9dbe-4df0-ae29-14f9e683f8d7",
   "metadata": {},
   "source": [
    "and the global pi-pulse is simply a multiplication by the all-Pauli-$X$ string:"
   ]
  },
  {
   "cell_type": "code",
   "execution_count": 2,
   "id": "1ee76dfa-b3ab-4e4a-8605-90a9ad3630ee",
   "metadata": {
    "tags": []
   },
   "outputs": [
    {
     "data": {
      "text/latex": [
       "$\\prod\\limits_{i=0}^{11}\\sigma^x_{i}$"
      ],
      "text/plain": [
       "<Operator on 12 spins: index_product(σx[0], sites 0 - 11)>"
      ]
     },
     "execution_count": 2,
     "metadata": {},
     "output_type": "execute_result"
    }
   ],
   "source": [
    "from dynamite.operators import sigmax, index_product\n",
    "\n",
    "pi_pulse = index_product(sigmax())\n",
    "pi_pulse"
   ]
  },
  {
   "cell_type": "markdown",
   "id": "2fa5743f-e14c-4d51-8798-c3baee7d6896",
   "metadata": {},
   "source": [
    "## Goals\n",
    "\n",
    "The actual numerics here are pretty straightforward: we will evolve an initial state under the above Floquet model, and at every time $T$ we will compute various statistics about the state, such as expectation values of operators and the entanglement entropy. We will also observe the \"energy\" of the state with respect to the Hamiltonian averaged over a full cycle of length $2T$:\n",
    "$$D_\\mathrm{eff} = J_z \\sum_{i,j} \\frac{\\sigma^z_i \\sigma^z_j}{|i-j|^\\alpha} + J_x \\sum_{\\langle i, j \\rangle} \\sigma^x_i + \\sum_i h_x \\sigma_x$$\n",
    "That is, the $h_y$ and $h_z$ terms approximately average to zero. \n",
    "\n",
    "Of course, since we are driving the system and there is no dissipation, the temperature will eventually go to infinity. However, we hope to observe that for the right frequency (inverse of the period $T$) we should see a \"prethermal plateau\" in which $D_\\mathrm{eff}$ is approximately conserved, and thus the system can thermalize with respect to it. This is *Floquet prethermalization*---the system thermalizes early with respect to an approximate Hamiltonian, and only much later thermalizes to the infinite temperature state."
   ]
  },
  {
   "cell_type": "markdown",
   "id": "02058a72-087a-4add-8476-7c8160b0ca4d",
   "metadata": {},
   "source": [
    "## Remark: checkpointing\n",
    "\n",
    "Especially on HPC clusters, we may encounter situations where our compute jobs are killed before they complete. Or, we may look at the results of a completed job and decide we want to evolve for a longer time. Whatever the reason, the ability to save our progress and re-start computations where we left off can be extremely useful.\n",
    "\n",
    "This can often be quite easy to accomplish, and it is implemented in this example. Here, every $n$ iterations (where $n$ is set on the command line by the user), the state vector is saved to a file, with the cycle number contained in the filename. When the script starts up, it checks to see if such a file already exists, and if it does, it reads in the vector and starts the evolution from there. Pretty straightforward!"
   ]
  },
  {
   "cell_type": "markdown",
   "id": "76458b0a-d329-48e8-a856-d4b5ed015f0e",
   "metadata": {},
   "source": [
    "## Remark: operator arithmetic\n",
    "\n",
    "Note that in `run_floquet.py` we compute the \"averaged\" Hamiltonian $D_\\mathrm{eff}$ simply as\n",
    "\n",
    "```python\n",
    "Deff = (H + X*H*X)/2\n",
    "```\n",
    "where `X` is the global pi pulse operator.\n",
    "\n",
    "This showcases the operator arithmetic that is possible in dynamite. You may sometimes find dynamite useful just as a \"calculator\" for doing arithmetic with strings of Paulis! Note in particular that due to the symbolic way that dynamite stores operators, calculations like the above can be done in milliseconds on a laptop even when multiplying the operators as matrices would be extremely expensive."
   ]
  },
  {
   "cell_type": "markdown",
   "id": "d3a2fff1-e98e-4daf-8234-f8864cd96b4d",
   "metadata": {},
   "source": [
    "## Usage\n",
    "\n",
    "The computation is implemented in `run_floquet.py`. The script will output, in CSV format, the half-chain entanglement entropy, the effective energy $\\langle D_\\mathrm{eff} \\rangle$, and the expectation value of $S^z$ for each spin. Note that the data is written to stdout and any other information is written to stderr, so you can do for example `python run_floquet.py -L 12 > data.csv` and only the data will be written to the CSV file.\n",
    "\n",
    "Here are the command line options:"
   ]
  },
  {
   "cell_type": "code",
   "execution_count": 3,
   "id": "20f3ae00-497c-4428-b2ef-e7d76d39afe2",
   "metadata": {
    "tags": []
   },
   "outputs": [
    {
     "name": "stdout",
     "output_type": "stream",
     "text": [
      "usage: run_floquet.py [-h] [-L L] [--Jx JX] [--h-vec H_VEC] [--alpha ALPHA]\n",
      "                      [-T T] [--initial-state-dwalls INITIAL_STATE_DWALLS]\n",
      "                      [--n-cycles N_CYCLES]\n",
      "                      [--checkpoint-path CHECKPOINT_PATH]\n",
      "                      [--checkpoint-every CHECKPOINT_EVERY]\n",
      "\n",
      "Evolve under a Floquet Hamiltonian\n",
      "\n",
      "options:\n",
      "  -h, --help            show this help message and exit\n",
      "  -L L                  number of spins\n",
      "  --Jx JX               coefficient on the XX term\n",
      "  --h-vec H_VEC         magnetic field vector\n",
      "  --alpha ALPHA         power law for long range ZZ interaction\n",
      "  -T T                  Floquet period\n",
      "  --initial-state-dwalls INITIAL_STATE_DWALLS\n",
      "                        Number of domain walls to include in initial product\n",
      "                        state\n",
      "  --n-cycles N_CYCLES   Total number of Floquet cycles\n",
      "  --checkpoint-path CHECKPOINT_PATH\n",
      "                        where to save the state vector for\n",
      "                        checkpointing/restarting. [default: ./]\n",
      "  --checkpoint-every CHECKPOINT_EVERY\n",
      "                        how frequently to save checkpoints, in number of\n",
      "                        cycles. if this option is omitted, checkpoints will\n",
      "                        not be saved.\n"
     ]
    }
   ],
   "source": [
    "! python run_floquet.py -h"
   ]
  },
  {
   "cell_type": "markdown",
   "id": "6c01d1a9-88c2-4ba1-8f0c-e0e13fa8ec00",
   "metadata": {},
   "source": [
    "## References\n",
    "\n",
    "<span id=\"ref1\"><sup>1</sup> [Machado et al., \"Exponentially slow heating in short and long-range interacting Floquet systems\"](https://doi.org/10.1103/PhysRevResearch.1.033202)</span>  \n",
    "<span id=\"ref2\"><sup>2</sup> [Machado et al., \"Long-Range Prethermal Phases of Nonequilibrium Matter\"](https://journals.aps.org/prx/abstract/10.1103/PhysRevX.10.011043)</span>  "
   ]
  }
 ],
 "metadata": {
  "kernelspec": {
   "display_name": "Python 3 (ipykernel)",
   "language": "python",
   "name": "python3"
  },
  "language_info": {
   "codemirror_mode": {
    "name": "ipython",
    "version": 3
   },
   "file_extension": ".py",
   "mimetype": "text/x-python",
   "name": "python",
   "nbconvert_exporter": "python",
   "pygments_lexer": "ipython3",
   "version": "3.11.3"
  }
 },
 "nbformat": 4,
 "nbformat_minor": 5
}
