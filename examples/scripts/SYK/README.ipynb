{
 "cells": [
  {
   "cell_type": "markdown",
   "id": "4a9059c0-4c63-45be-8efe-15bfe7943db8",
   "metadata": {},
   "source": [
    "# SYK\n",
    "\n",
    "## In this example\n",
    "\n",
    " - Mapping Majoranas onto spins\n",
    " - Imaginary time evolution\n",
    " - Ordinary time evolution\n",
    " - Generating random states\n",
    " - The `Parity` subspace\n",
    " - Operators that cross subspaces (in this case, changing the parity)\n",
    " - Out-of-time-order correlators\n",
    " - Using quantum typicality to compute operators' thermal expectation values\n",
    " - Coordinating randomness across MPI ranks"
   ]
  },
  {
   "cell_type": "markdown",
   "id": "1a9eb900-cdb8-43f4-851d-52a0d8dae5d0",
   "metadata": {},
   "source": [
    "## Overview\n",
    "\n",
    "This example explores the Sachdev-Ye-Kitaev (SYK) model. In spirit it represents the opposite of the localization explored in the MBL example: it is expected to scramble information at the maximum possible rate.[<sup>1,2</sup>](#ref1) Furthermore it exhibits *maximal chaos*: the Lyapunov exponent, which characterizes how rapidly chaotic trajectories diverge, saturates its upper bound of $2\\pi T$, where $T$ is the temperature of the system.[<sup>3</sup>](#ref3) Its physics can be connected to the dynamics of quantum information in black holes, providing a testbed for exotic phenomena such as scrambling-based teleportation.[<sup>4,5,6,7</sup>](#ref4) The example code here mirrors closely a study which used dynamite to show numerical evidence for many-body chaos and gravitational dynamics in the SYK model.[<sup>8</sup>](#ref8)\n",
    "\n",
    "The SYK model gives us a chance to look at how quantum systems other than spins can be explored with dynamite, by transforming them onto a spin system. The SYK model we'll use consists of Majoranas interacting in 0D, with random couplings. Specifically it consists of every possible 4-body interaction among N Majoranas, with each term having a random coupling strength:\n",
    "\n",
    "$$H = \\sqrt{\\frac{6}{N^3}} \\sum_{ijkl} J_{ijkl} \\chi_i \\chi_j \\chi_k \\chi_l$$\n",
    "where $J_{ijkl}$ are randomly chosen from a Gaussian distribution with variance 1.\n",
    "\n",
    "To map the Majoranas onto the spin systems that are natively supported in dynamite, we can use the following transformation. For the Majorana with index $i$, let $q = \\lfloor i/2 \\rfloor$. Then\n",
    "$$\\chi_i = \\sigma^{\\lbrace x, y\\rbrace}_q \\prod_{m \\in [0, q-1]} \\sigma^z$$\n",
    "where the first Pauli is $\\sigma^x$ if $i$ is even and $\\sigma^y$ if it's odd. In words, the Majorana consists of a $\\sigma^x$ or $\\sigma^y$ with a string of $\\sigma^z$ extending to the edge of the spin chain. Note that we get two Majoranas for each spin!\n",
    "\n",
    "This is straightforward to implement in dynamite, but is actually already built in in the `dynamite.extras` module so we don't have to do it ourselves:"
   ]
  },
  {
   "cell_type": "code",
   "execution_count": 1,
   "id": "e87811a5-d53a-4602-aa1c-d0c3aedb37a1",
   "metadata": {
    "tags": []
   },
   "outputs": [
    {
     "name": "stdout",
     "output_type": "stream",
     "text": [
      "   coeff. | operator \n",
      "=====================\n",
      "    1.000 | ZZZZY\n"
     ]
    }
   ],
   "source": [
    "from dynamite.extras import majorana\n",
    "\n",
    "# a visual look at the Pauli structure of Majorana with index 9\n",
    "print(majorana(9).table())"
   ]
  },
  {
   "cell_type": "markdown",
   "id": "ce55fb8f-7616-49c8-8470-38a11be906a5",
   "metadata": {},
   "source": [
    "In this example project, the Hamiltonian is implemented by `build_hamiltonian` in the file `run_syk.py`. That function uses some clever optimizations to speed things up since our Hamiltonian has so many terms; we also include a more straightforward, but slower implementation called `build_hamiltonian_simple` for comparison. Check out the difference in performance, for a system of only 16 Majoranas (8 spins!):"
   ]
  },
  {
   "cell_type": "code",
   "execution_count": 2,
   "id": "335563d7-757d-4597-a7e2-bc9fceb99e7f",
   "metadata": {
    "tags": []
   },
   "outputs": [],
   "source": [
    "from run_syk import build_hamiltonian, build_hamiltonian_simple"
   ]
  },
  {
   "cell_type": "code",
   "execution_count": 3,
   "id": "f0b29c4d-53d1-4227-bd0b-952fd455af54",
   "metadata": {
    "tags": []
   },
   "outputs": [
    {
     "name": "stdout",
     "output_type": "stream",
     "text": [
      "180 ms ± 0 ns per loop (mean ± std. dev. of 1 run, 1 loop each)\n"
     ]
    }
   ],
   "source": [
    "%timeit -n 1 -r 1 build_hamiltonian(N=16)"
   ]
  },
  {
   "cell_type": "code",
   "execution_count": 4,
   "id": "de973a24-b451-4952-ba0b-7ff51330a9e8",
   "metadata": {
    "tags": []
   },
   "outputs": [
    {
     "name": "stdout",
     "output_type": "stream",
     "text": [
      "1.98 s ± 0 ns per loop (mean ± std. dev. of 1 run, 1 loop each)\n"
     ]
    }
   ],
   "source": [
    "%timeit -n 1 -r 1 build_hamiltonian_simple(N=16)"
   ]
  },
  {
   "cell_type": "markdown",
   "id": "56149405-e6a5-4cbb-b21e-0e7520d58a0f",
   "metadata": {},
   "source": [
    "## Goals\n",
    "\n",
    "In this project we investigate the fast scrambling behavior of the SYK model by studying *out of time order correlators* (OTOCs). In particular, we will measure to what extent two local operators $V(0)$ and $W(t)$ anticommute for various times $t$, where the anticommutator at time $t=0$ is zero:\n",
    "$$C(t) = \\langle \\left| \\lbrace W(t), V(0) \\rbrace \\right| ^2 \\rangle .$$\n",
    "It's helpful to reduce this to the following equivalent expression\n",
    "$$C(t) = 2 \\mathrm{Re}\\left[ \\langle W(t) V(0) W(t) V(0) \\rangle \\right] + 1/2$$\n",
    "which is the formulation of $C(t)$ that we will use in the computations here.\n",
    "(For more details, see the referenced publications).\n",
    "\n",
    "We are specifically interested in the expectation value of the operator $O(t) = W(t) V(0) W(t) V(0)$ with respect to *thermal states* of various (inverse) temperatures $\\beta$. Now, dynamite's speed comes from the fact that it works with pure states, rather than mixed states---so the obvious plan to just compute $\\mathrm{Tr} \\left[ O(t) e^{-\\beta H} \\right]$ is out of the question. Instead, we can take advantage of an idea called *quantum typicality* to get an estimate of the expectation value more efficiently (see references below). Quantum typicality says that $\\mathrm{Tr} \\left[ O(t) e^{-\\beta H} \\right]$ is approximated by the expectation value of $O(t)$ with respect to random states of temperature $\\beta$. \n",
    "\n",
    "So, our plan will be to sample a number of random states, use imaginary time evolution to set their temperature to the given value of $\\beta$, and then take the expectation value of $O(t)$ with respect to the result. We will also take advantage of the fact that we can rewrite $\\mathrm{Tr} \\left[ O(t) e^{-\\beta H} \\right] = \\mathrm{Tr} \\left[ e^{-\\beta H/2} O(t) e^{-\\beta H/2} \\right]$. For simplicity we can set $W=\\chi_0$ and $V=\\chi_1$. With that, for a uniformly random state $\\left| \\psi_r \\right>$ we will compute (writing things out in full):\n",
    "\n",
    "$$\\left< \\psi_r \\right| e^{-\\beta H/2} e^{iHt} \\chi_0 e^{-iHt} \\chi_1 e^{iHt} \\chi_0 e^{-iHt} \\chi_1 e^{-\\beta H/2} \\left| \\psi_r \\right>$$\n",
    "\n",
    "The function `compute_otoc` starts with $\\left| \\psi_r \\right>$ and just works through the operator from right to left, applying imaginary and real time evolution and multiplying by operators as it goes until it finally reaches the other side, when it takes the inner product to find the expectation value."
   ]
  },
  {
   "cell_type": "markdown",
   "id": "3eaf6f16-c521-461e-8f00-d00ed2a1494a",
   "metadata": {},
   "source": [
    "## Remark: matrix-free methods\n",
    "\n",
    "The SYK Hamiltonian has a very large number of terms. Most Hamiltonians we encounter have a number of terms that scale perhaps as $L$ or $L^2$, where $L$ is the number of spins. This SYK model has roughly $(2L)^4$ terms. For example, with only 40 Majoranas there are already over 90,000 terms!"
   ]
  },
  {
   "cell_type": "code",
   "execution_count": 5,
   "id": "9df5924e-d62b-42ed-bcff-73d506e7c8bc",
   "metadata": {
    "tags": []
   },
   "outputs": [
    {
     "data": {
      "text/plain": [
       "91390"
      ]
     },
     "execution_count": 5,
     "metadata": {},
     "output_type": "execute_result"
    }
   ],
   "source": [
    "H = build_hamiltonian(40)  # this make take a moment to run\n",
    "H.nterms"
   ]
  },
  {
   "cell_type": "markdown",
   "id": "79d77970-e127-46b3-b0fc-bf62bda976c1",
   "metadata": {},
   "source": [
    "Due to this fact, the memory required to store the matrix for this operator becomes very large:"
   ]
  },
  {
   "cell_type": "code",
   "execution_count": 6,
   "id": "a010990b-0c0e-49d8-a35c-c51ad3cb4ede",
   "metadata": {
    "tags": []
   },
   "outputs": [
    {
     "data": {
      "text/plain": [
       "105.63354624"
      ]
     },
     "execution_count": 6,
     "metadata": {},
     "output_type": "execute_result"
    }
   ],
   "source": [
    "H.estimate_memory()  # returns an estimate in Gb of the memory required to build the matrix for this operator"
   ]
  },
  {
   "cell_type": "markdown",
   "id": "cfe237b5-d5d7-4532-9f3b-cac69e40508b",
   "metadata": {},
   "source": [
    "Of note here is that `H` is a symbolic representation of the operator; the matrix has not been stored in memory. You don't need 105 Gb of RAM to evaluate the above two cells! One of the most important features of dynamite is the ability to perform computations \"matrix-free,\" such that the matrix is *never* built! Instead, matrix elements are generated on the fly when needed. For historical reasons, these are called \"shell\" matrices in dynamite. Using them results in a drastic reduction in memory usage:"
   ]
  },
  {
   "cell_type": "code",
   "execution_count": 7,
   "id": "78557ef0-5494-4631-9b1a-958b57b3ecb4",
   "metadata": {
    "tags": []
   },
   "outputs": [
    {
     "data": {
      "text/plain": [
       "0.00219336"
      ]
     },
     "execution_count": 7,
     "metadata": {},
     "output_type": "execute_result"
    }
   ],
   "source": [
    "H.shell = True\n",
    "H.estimate_memory()"
   ]
  },
  {
   "cell_type": "markdown",
   "id": "9065a455-d109-403c-9475-68bd3a785afc",
   "metadata": {},
   "source": [
    "In general, the tradeoff is that performing computations matrix-free can be somewhat slower, due to the extra cost of computing the matrix elements. But this is not always true: for matrix-vector multiplications, the limiting factor is often the memory bandwidth, and having to pull less data from memory can actually speed things up. This is especially true when running things in parallel, if many CPUs are sharing the same memory bus. Ultimately, one should just experiment with different configurations and see which one gives the best combination of speed and memory cost.\n",
    "\n",
    "Finally, we note that it is worth thinking holistically about how to best handle difficult numerical problems like this. For example, it has been shown that \"sparse SYK,\" which has many fewer terms, can demonstrate a lot of the same physics with much lower memory and runtime costs.[<sup>9,10</sup>](#ref9)"
   ]
  },
  {
   "cell_type": "markdown",
   "id": "08b450d1-f16e-457f-88e3-3fcec4963a2a",
   "metadata": {},
   "source": [
    "## Remark: disorder realizations and parallelism\n",
    "\n",
    "(also discussed in MBL example)\n",
    "\n",
    "The SYK Hamiltonian is a case in which getting good data requires disorder averaging---that is, running the computation many times with fresh randomness. Given $N$ CPU cores there are two main ways one can parallelize that process: (1) running $N$ disorder realizations independently at the same time, each using one core, and (2) using MPI to parallelize one computation across all $N$ cores and then doing each disorder realization in sequence. In this case, (1) will almost always be faster and should be prioritized---while the MPI parallelism in dynamite is highly optimized, there will always be some cost to the communication between cores.\n",
    "\n",
    "However, there are situations in which using MPI may be preferable, for example if running $N$ independent disorder realizations uses too much memory. Ultimately, the user should experiment with different configurations to determine what gives the best performance. Ideally, in practice one would simply make use of a large cluster of GPUs, running independent disorder realizations on each one."
   ]
  },
  {
   "cell_type": "markdown",
   "id": "a14821d4-0ad2-48b1-b659-93944958bcfa",
   "metadata": {},
   "source": [
    "## Remark: using randomness in dynamite\n",
    "\n",
    "(also discussed in MBL example)\n",
    "\n",
    "One needs to take extra care when using randomness in code that will be run under MPI with multiple ranks. Each rank is its own Python process, and by default will have a different random seed---so if you are not careful, each of your ranks may end up trying to build a different Hamiltonian! (dynamite does check that the Hamiltonian is the same on all ranks before building the underlying matrix, so you will get an error if this happens).\n",
    "\n",
    "There are two ways to handle this: one is to have rank 0 pick a random seed and use MPI to communicate it to all the other ranks, and the other is to simply pass a seed on the command line. Both are implemented in this example for demonstration purposes: if no seed is passed on the command line, then one is generated and communicated to all MPI ranks. If you pass a random seed on the command line, make sure to change it each time you run the code if you want new disorder realizations!\n",
    "\n",
    "**Note 1:** when setting a random state via `State(state='random')`, dynamite is already careful about coordinating randomness between MPI ranks, so the user does not need to worry about it in that case.\n",
    "\n",
    "**Note 2:** If you will never run your code on multiple MPI ranks, you don't need to worry about this at all. In particular, running on a GPU with 1 CPU process will not encounter this issue."
   ]
  },
  {
   "cell_type": "markdown",
   "id": "e427b499-c8df-4448-9ea9-26dd46ffe1b7",
   "metadata": {},
   "source": [
    "## Remark: re-using time evolution\n",
    "\n",
    "An important aspect of dynamite's time evolution algorithm is that its runtime is roughly proportional to $|| Ht ||$. In `run_syk.py`, we take advantage of this to reduce computational costs. Suppose we want to compute $C(t)$ for two temperatures $\\beta_1$ and $\\beta_2$, with $\\beta_1 < \\beta_2$. Starting with a random state $\\left| \\psi_r \\right>$, one might compute\n",
    "\n",
    "$$\\left| \\psi_{\\beta_1} \\right> = e^{-\\beta_1 H} \\left| \\psi_r \\right>$$\n",
    "$$\\left| \\psi_{\\beta_2} \\right> = e^{-\\beta_2 H} \\left| \\psi_r \\right>$$\n",
    "\n",
    "However, it will be faster to compute\n",
    "$$\\left| \\psi_{\\beta_1} \\right> = e^{-\\beta_1 H} \\left| \\psi_r \\right>$$\n",
    "$$\\left| \\psi_{\\beta_2} \\right> = e^{-(\\beta_2-\\beta_1) H} \\left| \\psi_{\\beta_1} \\right>$$\n",
    "because in this case, the exponent of the second evolution has smaller norm.\n",
    "\n",
    "Note that if one is computing the OTOC for multiple times $t$, one can take this a step further and do a similar thing for some of the time evolution operators $e^{-i H t}$ in the definition of the OTOC. (This is not implemented in this example)."
   ]
  },
  {
   "cell_type": "markdown",
   "id": "88a953ef-3e51-4fff-8550-6f4414c250ba",
   "metadata": {},
   "source": [
    "## Usage\n",
    "\n",
    "The computation is implemented in `run_syk.py`. The script will output, in CSV format, the value of $C(t)$ for each combination of $\\beta$ and $t$ specified. Here are the command line options:"
   ]
  },
  {
   "cell_type": "code",
   "execution_count": 8,
   "id": "aa8b3322-9bb0-4be2-b46a-65a429247328",
   "metadata": {
    "tags": []
   },
   "outputs": [
    {
     "name": "stdout",
     "output_type": "stream",
     "text": [
      "usage: run_syk.py [-h] [-N N] [-b B] [-t T] [--H-iters H_ITERS]\n",
      "                  [--state-iters STATE_ITERS] [-s SEED] [--no-shell]\n",
      "\n",
      "Compute OTOCs for the SYK model.\n",
      "\n",
      "options:\n",
      "  -h, --help            show this help message and exit\n",
      "  -N N                  number of majoranas\n",
      "  -b B                  comma-separated list of values of beta\n",
      "  -t T                  comma-separated list of values of the time t\n",
      "  --H-iters H_ITERS     number of Hamiltonian disorder realizations\n",
      "  --state-iters STATE_ITERS\n",
      "                        number of random states per Hamiltonian\n",
      "  -s SEED, --seed SEED  seed for random number generator. if omitted, a random\n",
      "                        seed is chosen by querying system hardware randomness\n",
      "  --no-shell            disable shell matrices (they are enabled by default)\n"
     ]
    }
   ],
   "source": [
    "! python run_syk.py -h"
   ]
  },
  {
   "cell_type": "markdown",
   "id": "d0170cd3-6f34-44d8-97a7-5e941a188bd9",
   "metadata": {},
   "source": [
    "Try running this computation with MPI, or on a GPU if you have one, and compare the performance! You can also try disabling shell matrices with the `--no-shell` option to see first-hand how quickly the memory usage blows up for this Hamiltonian."
   ]
  },
  {
   "cell_type": "markdown",
   "id": "d6d79ea3-f797-408a-b0ab-7a4df02314d2",
   "metadata": {},
   "source": [
    "## References\n",
    "\n",
    "<span id=\"ref1\"><sup>1</sup> [Kitaev, \"A simple model of quantum holography\"](https://online.kitp.ucsb.edu/online/entangled15/kitaev/)</span>  \n",
    "<span id=\"ref2\"><sup>2</sup> [Maldacena and Stanford, \"Remarks on the Sachdev-Ye-Kitaev model\"](https://doi.org/10.1103/PhysRevD.94.106002)</span>  \n",
    "<span id=\"ref3\"><sup>3</sup> [Maldacena et al., \"A bound on chaos\"](https://doi.org/10.1007/JHEP08(2016)106)</span>  \n",
    "<span id=\"ref4\"><sup>4</sup> [Gao et al., \"Traversable wormholes via a double trace deformation\"](https://doi.org/10.1007/JHEP12(2017)151)</span>  \n",
    "<span id=\"ref5\"><sup>5</sup> [Maldacena et al., \"Diving into traversable wormholes\"](https://doi.org/10.1002/prop.201700034)</span>  \n",
    "<span id=\"ref6\"><sup>6</sup> [Brown et al., \"Quantum Gravity in the Lab: Teleportation by Size and Traversable Wormholes\"](https://doi.org/10.1103/PRXQuantum.4.010320)</span>  \n",
    "<span id=\"ref7\"><sup>7</sup> [Schuster et al., \"Many-Body Quantum Teleportation via Operator Spreading in the Traversable Wormhole Protocol\"](https://doi.org/10.1103/PhysRevX.12.031013)</span>  \n",
    "<span id=\"ref8\"><sup>8</sup> [Kobrin et al., \"Many-Body Chaos in the Sachdev-Ye-Kitaev Model\"](https://doi.org/10.1103/PhysRevLett.126.030602)</span>  \n",
    "<span id=\"ref9\"><sup>9</sup> [Xu et al., \"A Sparse Model of Quantum Holography\"](https://doi.org/10.48550/arXiv.2008.02303)</span>  \n",
    "<span id=\"ref10\"><sup>10</sup> [Cáceres et al., \"Sparse SYK and traversable wormholes\"](https://doi.org/10.1007/JHEP11(2021)015)</span>  "
   ]
  }
 ],
 "metadata": {
  "kernelspec": {
   "display_name": "Python 3 (ipykernel)",
   "language": "python",
   "name": "python3"
  },
  "language_info": {
   "codemirror_mode": {
    "name": "ipython",
    "version": 3
   },
   "file_extension": ".py",
   "mimetype": "text/x-python",
   "name": "python",
   "nbconvert_exporter": "python",
   "pygments_lexer": "ipython3",
   "version": "3.11.2"
  }
 },
 "nbformat": 4,
 "nbformat_minor": 5
}
