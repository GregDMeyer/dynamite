{
 "cells": [
  {
   "cell_type": "markdown",
   "id": "0f57acf8-50b9-492d-9f6c-e9143b6c632e",
   "metadata": {},
   "source": [
    "# SYK\n",
    "\n",
    "This example explores the Sachdev-Ye-Kitaev (SYK) model. In spirit it represents the flipside of the localization explored in the MBL example: the SYK model we explore here is expected to exhibit *fast scrambling*. That is, quantum information is scrambled at the maximum possible rate.\n",
    "\n",
    "This example also gives us a chance to look at how quantum systems other than spins can be explored with dynamite, by transforming them onto a spin system. The SYK model we'll use consists of Majoranas interacting in 0D, with random couplings. Specifically it consists of every possible 4-body interaction among N Majoranas, with each one having a random coupling strength:\n",
    "\n",
    "$$H = \\sum_{ijkl} J_{ijkl} \\chi_i \\chi_j \\chi_k \\chi_l$$\n",
    "\n",
    "where $J_{ijkl}$ are random with some particular distribution (we will use the uniform distribution in the range $[-1, 1]$).\n",
    "\n",
    "To map the Majoranas onto the spin systems that are natively supported in dynamite, we can use the following transformation. For the Majorana with index $i$, let $q = \\lfloor i/2 \\rfloor$. Then\n",
    "$$\\chi_i = \\sigma^{\\{x, y\\}}_q \\prod_{m \\in [0, q-1]} \\sigma^z$$\n",
    "where the first Pauli is $\\sigma^x$ if $i$ is even and $\\sigma^y$ if it's odd. In words, the Majorana consists of a $\\sigma^x$ or $\\sigma^y$ with a string of $\\sigma^z$ extending to the edge of the spin chain. Note that we get two Majoranas for each spin!\n",
    "\n",
    "This is straightforward to implement in dynamite, but is actually already built in in the `dynamite.extras` module so we don't have to do it ourselves:"
   ]
  },
  {
   "cell_type": "code",
   "execution_count": 1,
   "id": "e87811a5-d53a-4602-aa1c-d0c3aedb37a1",
   "metadata": {
    "tags": []
   },
   "outputs": [
    {
     "name": "stdout",
     "output_type": "stream",
     "text": [
      "   coeff. | operator \n",
      "=====================\n",
      "    1.000 | ZZZZY\n"
     ]
    }
   ],
   "source": [
    "from dynamite.extras import majorana\n",
    "\n",
    "# a visual look at the Pauli structure of Majorana with index 9\n",
    "print(majorana(9).table())"
   ]
  },
  {
   "cell_type": "markdown",
   "id": "ce55fb8f-7616-49c8-8470-38a11be906a5",
   "metadata": {},
   "source": [
    "In this example project, the Hamiltonian is implemented by `build_hamiltonian` in the file `run_syk.py`. That function uses some clever optimizations to speed things up since our Hamiltonian has so many terms; we also include a more straightforward, but slower implementation called `build_hamiltonian_simple` for comparison. Check out the difference in performance, for a system of only 16 Majoranas (8 spins!):"
   ]
  },
  {
   "cell_type": "code",
   "execution_count": 1,
   "id": "335563d7-757d-4597-a7e2-bc9fceb99e7f",
   "metadata": {
    "tags": []
   },
   "outputs": [],
   "source": [
    "from run_syk import build_hamiltonian, build_hamiltonian_simple"
   ]
  },
  {
   "cell_type": "code",
   "execution_count": 2,
   "id": "f0b29c4d-53d1-4227-bd0b-952fd455af54",
   "metadata": {
    "tags": []
   },
   "outputs": [
    {
     "name": "stdout",
     "output_type": "stream",
     "text": [
      "190 ms ± 0 ns per loop (mean ± std. dev. of 1 run, 1 loop each)\n"
     ]
    }
   ],
   "source": [
    "%timeit -n 1 -r 1 build_hamiltonian(N=16)"
   ]
  },
  {
   "cell_type": "code",
   "execution_count": 3,
   "id": "de973a24-b451-4952-ba0b-7ff51330a9e8",
   "metadata": {
    "tags": []
   },
   "outputs": [
    {
     "name": "stdout",
     "output_type": "stream",
     "text": [
      "1.95 s ± 0 ns per loop (mean ± std. dev. of 1 run, 1 loop each)\n"
     ]
    }
   ],
   "source": [
    "%timeit -n 1 -r 1 build_hamiltonian_simple(N=16)"
   ]
  },
  {
   "cell_type": "markdown",
   "id": "56149405-e6a5-4cbb-b21e-0e7520d58a0f",
   "metadata": {},
   "source": [
    "## Goals\n",
    "\n",
    "In this project we investigate the fast scrambling behavior of the SYK model by studying *out of time order correlators* (OTOCs). In particular we will look at the expectation value of the four point correlator $O(t)$:\n",
    "$$O(t) = \\langle W(t) V(0) W(t) V(0) \\rangle$$\n",
    "where $W$ and $V$ are local operators that commute at time $0$.\n",
    "The intuition is that these correlators measure how much a system is \"scrambled\" at a particular time $t$ by in effect measuring to what extent $V(0)$ and $W(t)$ commute. (For more details, see the referenced publications).\n",
    "\n",
    "We are specifically interested in the expectation value of this operator with respect to *thermal states* of various (inverse) temperatures $\\beta$. Now, dynamite's speed comes from the fact that it works with pure states, rather than mixed states---so the obvious plan to just compute $\\mathrm{Tr} \\left[ O(t) e^{-\\beta H} \\right]$ is out of the question. Instead, we can take advantage of an idea called *quantum typicality* to get an estimate of the expectation value more efficiently. TODO: add reference? Quantum typicality says that $\\mathrm{Tr} \\left[ O(t) e^{-\\beta H} \\right]$ is approximated by the expectation value of $O(t)$ with respect to random states of temperature $\\beta$. \n",
    "\n",
    "So, our plan will be to sample a number of random states, use imaginary time evolution to set their temperature to the given value of $\\beta$, and then take the expectation value of $O(t)$ with respect to the result. We will also take advantage of the fact that we can rewrite $\\mathrm{Tr} \\left[ O(t) e^{-\\beta H} \\right] = \\mathrm{Tr} \\left[ e^{-\\beta H/2} O(t) e^{-\\beta H/2} \\right]$. For simplicity we can set $W=\\chi_0$ and $V=\\chi_1$. With that, for a uniformly random state $\\left| \\psi_r \\right>$ we will compute (writing things out in full):\n",
    "\n",
    "$$\\left< \\psi_r \\right| e^{-\\beta H/2} e^{iHt} \\chi_0 e^{-iHt} \\chi_1 e^{iHt} \\chi_0 e^{-iHt} \\chi_1 e^{-\\beta H/2} \\left| \\psi_r \\right>$$\n",
    "\n",
    "The function `compute_otoc` starts with $\\left| \\psi_r \\right>$ and just works through the operator from right to left, applying imaginary and real time evolution and multiplying by operators as it goes until it finally reaches the other side, when it takes the inner product to find the expectation value."
   ]
  },
  {
   "cell_type": "markdown",
   "id": "3eaf6f16-c521-461e-8f00-d00ed2a1494a",
   "metadata": {},
   "source": [
    "## Remark: matrix-free methods\n",
    "\n",
    "The SYK Hamiltonian has a very large number of terms. Most Hamiltonians we encounter have a number of terms that scale as perhaps $L$ or $L^2$, where $L$ is the number of spins. The SYK model has roughly $(2L)^4$ terms. For example, with only 40 Majoranas there are already over 90,000 terms!"
   ]
  },
  {
   "cell_type": "code",
   "execution_count": 13,
   "id": "9df5924e-d62b-42ed-bcff-73d506e7c8bc",
   "metadata": {
    "tags": []
   },
   "outputs": [
    {
     "data": {
      "text/plain": [
       "91390"
      ]
     },
     "execution_count": 13,
     "metadata": {},
     "output_type": "execute_result"
    }
   ],
   "source": [
    "H = build_hamiltonian(40)  # this make take a moment to run\n",
    "H.msc_size"
   ]
  },
  {
   "cell_type": "markdown",
   "id": "79d77970-e127-46b3-b0fc-bf62bda976c1",
   "metadata": {},
   "source": [
    "Due to this fact, the memory required to store the matrix for this operator becomes very large:"
   ]
  },
  {
   "cell_type": "code",
   "execution_count": 14,
   "id": "a010990b-0c0e-49d8-a35c-c51ad3cb4ede",
   "metadata": {
    "tags": []
   },
   "outputs": [
    {
     "data": {
      "text/plain": [
       "105.63354624"
      ]
     },
     "execution_count": 14,
     "metadata": {},
     "output_type": "execute_result"
    }
   ],
   "source": [
    "H.estimate_memory()  # returns an estimate in Gb"
   ]
  },
  {
   "cell_type": "markdown",
   "id": "cfe237b5-d5d7-4532-9f3b-cac69e40508b",
   "metadata": {},
   "source": [
    "One of the most important features of dynamite is the ability to perform computations \"matrix-free,\" where matrix elements are generated on the fly when needed instead of being stored. For historical reasons, these are called \"shell\" matrices in dynamite. Using them results in a drastic reduction in memory usage:"
   ]
  },
  {
   "cell_type": "code",
   "execution_count": 15,
   "id": "78557ef0-5494-4631-9b1a-958b57b3ecb4",
   "metadata": {
    "tags": []
   },
   "outputs": [
    {
     "data": {
      "text/plain": [
       "0.00219336"
      ]
     },
     "execution_count": 15,
     "metadata": {},
     "output_type": "execute_result"
    }
   ],
   "source": [
    "H.shell = True\n",
    "H.estimate_memory()"
   ]
  },
  {
   "cell_type": "markdown",
   "id": "9065a455-d109-403c-9475-68bd3a785afc",
   "metadata": {},
   "source": [
    "In general, the tradeoff is that performing computations matrix-free can be somewhat slower, due to the extra cost of computing the matrix elements. But this is not always true: for matrix-vector multiplications, the limiting factor is often the memory bandwidth, and having to pull less data from memory can actually speed things up. This is especially true when running things in parallel, if many CPUs are sharing the same memory bus. Ultimately, one should just experiment with different configurations and see which one gives the best combination of speed and memory cost. # TODO: give example?"
   ]
  },
  {
   "cell_type": "code",
   "execution_count": null,
   "id": "790cf040-e173-46c0-90e7-a018c878e9c5",
   "metadata": {},
   "outputs": [],
   "source": []
  }
 ],
 "metadata": {
  "kernelspec": {
   "display_name": "Python 3 (ipykernel)",
   "language": "python",
   "name": "python3"
  },
  "language_info": {
   "codemirror_mode": {
    "name": "ipython",
    "version": 3
   },
   "file_extension": ".py",
   "mimetype": "text/x-python",
   "name": "python",
   "nbconvert_exporter": "python",
   "pygments_lexer": "ipython3",
   "version": "3.11.2"
  }
 },
 "nbformat": 4,
 "nbformat_minor": 5
}
