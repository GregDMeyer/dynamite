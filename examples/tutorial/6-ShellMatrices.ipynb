{
 "cells": [
  {
   "cell_type": "markdown",
   "metadata": {},
   "source": [
    "# Shell matrices and memory usage in `dynamite`"
   ]
  },
  {
   "cell_type": "markdown",
   "metadata": {},
   "source": [
    "For this demonstration, we'll use the long-range XX+Z model we saw last time:"
   ]
  },
  {
   "cell_type": "code",
   "execution_count": null,
   "metadata": {
    "tags": []
   },
   "outputs": [],
   "source": [
    "from dynamite import config\n",
    "config.L = 18"
   ]
  },
  {
   "cell_type": "code",
   "execution_count": null,
   "metadata": {
    "tags": []
   },
   "outputs": [],
   "source": [
    "from dynamite.operators import sigmax, sigmaz, index_sum, op_sum\n",
    "\n",
    "def XXZ():\n",
    "    interaction = op_sum(index_sum(sigmax(0)*sigmax(i)) for i in range(1, config.L))\n",
    "    uniform_field = 0.5*index_sum(sigmaz())\n",
    "    return interaction + uniform_field\n",
    "\n",
    "# look at an example\n",
    "XXZ()"
   ]
  },
  {
   "cell_type": "markdown",
   "metadata": {},
   "source": [
    "Let's look at the structure of the matrix. `dynamite` uses sparse linear algebra, meaning that only nonzero matrix elements are stored. But the high connectivity of this model means that there are a good number of nonzero matrix elements:"
   ]
  },
  {
   "cell_type": "code",
   "execution_count": null,
   "metadata": {
    "tags": []
   },
   "outputs": [],
   "source": [
    "%matplotlib inline\n",
    "config.L = 8\n",
    "H = XXZ()\n",
    "H.spy()"
   ]
  },
  {
   "cell_type": "markdown",
   "metadata": {},
   "source": [
    "This is a graphic representation of our matrix, where each black dot is a nonzero element. As we can see, the matrix is quite dense. We can quantitatively asses the density. For a Hamiltonian of size 20:"
   ]
  },
  {
   "cell_type": "code",
   "execution_count": null,
   "metadata": {
    "tags": []
   },
   "outputs": [],
   "source": [
    "config.L = 20\n",
    "H = XXZ()\n",
    "\n",
    "print('nonzeros per row:          ', H.nnz)\n",
    "print('matrix dimension:          ', H.dim)\n",
    "print('total nonzeros (nnz*nrows):', H.nnz*H.dim[0])\n",
    "print('density (nnz/dim):         ', H.density)"
   ]
  },
  {
   "cell_type": "markdown",
   "metadata": {},
   "source": [
    "That total number of nonzeros we need to store is a pretty big number. Let's look at our memory usage for a system of size 18:"
   ]
  },
  {
   "cell_type": "code",
   "execution_count": null,
   "metadata": {
    "tags": []
   },
   "outputs": [],
   "source": [
    "from dynamite.tools import get_memory_usage\n",
    "from timeit import timeit\n",
    "\n",
    "config.L = 18\n",
    "\n",
    "H = XXZ()\n",
    "\n",
    "before = get_memory_usage()\n",
    "duration = timeit(H.build_mat, number=1, globals=globals())\n",
    "after = get_memory_usage()\n",
    "\n",
    "print(f'matrix memory usage: {after-before} Gb')\n",
    "print(f'matrix build time: {duration} s')"
   ]
  },
  {
   "cell_type": "markdown",
   "metadata": {},
   "source": [
    "We are only working with 18 spins, and the memory usage is already almost a gigabyte. Also, building the matrix is time consuming. Fortunately, dynamite has built-in \"matrix-free\" methods, which compute matrix elements on-the-fly when needed, and never store them. Let's see the memory usage for a shell matrix:"
   ]
  },
  {
   "cell_type": "code",
   "execution_count": null,
   "metadata": {
    "tags": []
   },
   "outputs": [],
   "source": [
    "H.shell = True\n",
    "\n",
    "before = get_memory_usage()\n",
    "duration = timeit(H.build_mat, number=1, globals=globals())\n",
    "after = get_memory_usage()\n",
    "\n",
    "print(f'matrix memory usage: {after-before} Gb')\n",
    "print(f'matrix build time: {duration} s')"
   ]
  },
  {
   "cell_type": "markdown",
   "metadata": {},
   "source": [
    "The extra memory usage is obviously not zero. But it is so small that it doesn't even get noticed by the memory tracker. And the matrix build time is almost nothing! That's because nothing is really being \"built\"---the matrix elements are computed on the fly when needed.\n",
    "\n",
    "One might think that generating the matrix elements on the fly would incur a speed penalty. Let's compare the performance for a matrix-vector multiplication: "
   ]
  },
  {
   "cell_type": "code",
   "execution_count": null,
   "metadata": {
    "tags": []
   },
   "outputs": [],
   "source": [
    "H_noshell = H.copy()\n",
    "H_noshell.shell = False\n",
    "H_noshell.build_mat() # so we aren't counting this in the matrix-vector multiply time"
   ]
  },
  {
   "cell_type": "code",
   "execution_count": null,
   "metadata": {
    "tags": []
   },
   "outputs": [],
   "source": [
    "from dynamite.states import State\n",
    "\n",
    "# get states compatible with this operator\n",
    "state, result = H.create_states()\n",
    "state.set_random()\n",
    "\n",
    "no_shell_t = timeit(\"H_noshell.dot(state, result)\", number=1, globals=globals())\n",
    "shell_t = timeit(\"H.dot(state, result)\", number=1, globals=globals())\n",
    "\n",
    "print(f'Non-shell mat-vec multiply time: {no_shell_t} s')\n",
    "print(f'Shell mat-vec multiply time:     {shell_t} s')"
   ]
  },
  {
   "cell_type": "markdown",
   "metadata": {},
   "source": [
    "Shell matrices do more work to compute the matrix elements on the fly, but they avoid memory bandwidth problems of storing the elements explicitly. Depending on the Hamiltonian's structure, the speed will vary, but they will always use much less memory."
   ]
  },
  {
   "cell_type": "markdown",
   "metadata": {},
   "source": [
    "## Up next\n",
    "\n",
    "[Continue to notebook 7](7-Conclusion.ipynb) for the conclusion."
   ]
  }
 ],
 "metadata": {
  "kernelspec": {
   "display_name": "Python 3 (ipykernel)",
   "language": "python",
   "name": "python3"
  },
  "language_info": {
   "codemirror_mode": {
    "name": "ipython",
    "version": 3
   },
   "file_extension": ".py",
   "mimetype": "text/x-python",
   "name": "python",
   "nbconvert_exporter": "python",
   "pygments_lexer": "ipython3",
   "version": "3.11.1"
  }
 },
 "nbformat": 4,
 "nbformat_minor": 4
}
