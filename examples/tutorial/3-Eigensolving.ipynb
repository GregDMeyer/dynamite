{
 "cells": [
  {
   "cell_type": "markdown",
   "id": "a3335093-dedc-4677-b8b0-1c8ae7362875",
   "metadata": {},
   "source": [
    "## Eigensolving\n",
    "\n",
    "One of the main uses of dynamite is solving for eigenvalues and eigenstates---whether the ground state, or the middle of the spectrum. Here we will explore how to do that."
   ]
  },
  {
   "cell_type": "markdown",
   "id": "446c9650",
   "metadata": {},
   "source": [
    "### Ground state of the transverse field Ising model\n",
    "\n",
    "We revisit our favorite Hamiltonian, the TFIM:\n",
    "\n",
    "$$H = J \\sum_i \\sigma^z_i \\sigma^z_{i+1} + h \\sum_i \\sigma^x_i$$"
   ]
  },
  {
   "cell_type": "code",
   "execution_count": null,
   "id": "939fe3b8-353e-4cf8-b5b0-0cd2a0314743",
   "metadata": {},
   "outputs": [],
   "source": [
    "# always convenient to globally set the length of the spin chain\n",
    "from dynamite import config\n",
    "config.L = 12"
   ]
  },
  {
   "cell_type": "code",
   "execution_count": null,
   "id": "f3a207e7",
   "metadata": {},
   "outputs": [],
   "source": [
    "from dynamite.operators import sigmax, sigmay, sigmaz\n",
    "from dynamite.operators import index_sum\n",
    "\n",
    "def tfim(J, h):\n",
    "    ising = J*index_sum(sigmaz(0)*sigmaz(1), boundary='closed')\n",
    "    field = h*index_sum(sigmax(0))\n",
    "    return ising + field"
   ]
  },
  {
   "cell_type": "markdown",
   "id": "6d92188a",
   "metadata": {},
   "source": [
    "Let's find the ground state of this Hamiltonian! To do so, you can use the `Operator.eigsolve()` method:"
   ]
  },
  {
   "cell_type": "code",
   "execution_count": null,
   "id": "6f6f48c5",
   "metadata": {},
   "outputs": [],
   "source": [
    "H = tfim(J=1, h=0.1)\n",
    "eigvals = H.eigsolve()\n",
    "\n",
    "print(eigvals)"
   ]
  },
  {
   "cell_type": "markdown",
   "id": "1e37098a-11ed-4aab-b595-a049b268ac2c",
   "metadata": {},
   "source": [
    "By default, dynamite solves for the ground state energy. Sometimes it returns a few of the low-lying excited states too, if it happened to converge them during the solve.\n",
    "\n",
    "You can request the energy of a few states instead of just the ground state:"
   ]
  },
  {
   "cell_type": "code",
   "execution_count": null,
   "id": "a9fc684d-8771-4585-acb5-844a7f31402f",
   "metadata": {},
   "outputs": [],
   "source": [
    "eigvals = H.eigsolve(nev=3)\n",
    "print(eigvals)"
   ]
  },
  {
   "cell_type": "markdown",
   "id": "8677ebee-3560-46d2-97ce-25a3bf4d13f6",
   "metadata": {},
   "source": [
    "dynamite can also return the eigenvectors, as a State object. To do this, just pass the `getvecs=True` flag:"
   ]
  },
  {
   "cell_type": "code",
   "execution_count": null,
   "id": "26724d22-e87a-400d-abf4-f906f5842fb0",
   "metadata": {},
   "outputs": [],
   "source": [
    "eigvals, eigvecs = H.eigsolve(getvecs=True)\n",
    "print(eigvecs)"
   ]
  },
  {
   "cell_type": "markdown",
   "id": "ac08926b-b27a-480c-afdf-70f798f8f708",
   "metadata": {},
   "source": [
    "dynamite always returns a list of eigenvalues and eigenvectors; if you want the ground state, it will be the first in the list:"
   ]
  },
  {
   "cell_type": "code",
   "execution_count": null,
   "id": "fb6ea7cf-6c1d-42db-ad62-b02f8ad41f98",
   "metadata": {},
   "outputs": [],
   "source": [
    "gs = eigvecs[0]\n",
    "gs_energy = eigvals[0]"
   ]
  },
  {
   "cell_type": "code",
   "execution_count": null,
   "id": "77047157-c589-4a55-80ef-cbe0b04f677b",
   "metadata": {},
   "outputs": [],
   "source": [
    "# Exercise: confirm that the expectation value of the Hamiltonian is equal to the eigenvalue\n"
   ]
  },
  {
   "cell_type": "markdown",
   "id": "26841b84",
   "metadata": {},
   "source": [
    "Now that we have the ground state, let's compute some measurements on it! First, let's measure $\\langle \\psi | \\sigma_i^z |\\psi \\rangle$ and plot it:"
   ]
  },
  {
   "cell_type": "code",
   "execution_count": null,
   "id": "7bde2806-f063-49bd-885c-d59e72ef3a65",
   "metadata": {},
   "outputs": [],
   "source": [
    "def measure_sigmaz(i, state):\n",
    "    return state.dot(sigmaz(i)*state)\n",
    "\n",
    "# measurements\n",
    "z_vals = []\n",
    "for i in range(config.L):\n",
    "    z_vals.append(measure_sigmaz(i, gs))"
   ]
  },
  {
   "cell_type": "code",
   "execution_count": null,
   "id": "f99e94fa-1609-4357-bf75-99c0dea81018",
   "metadata": {},
   "outputs": [],
   "source": [
    "from matplotlib import pyplot as plt\n",
    "import numpy as np\n",
    "\n",
    "def plot_measmts(vals):\n",
    "    # color of the dots is defined by the measurement values\n",
    "    s = plt.scatter(range(config.L), [1 for i in range(config.L)], c=np.real(z_vals), s=50)\n",
    "\n",
    "    plt.title('$<S^z>$')\n",
    "    plt.xticks([])\n",
    "    plt.yticks([])\n",
    "\n",
    "    plt.colorbar(s, ax=plt.gca())\n",
    "    \n",
    "plot_measmts(z_vals)"
   ]
  },
  {
   "cell_type": "markdown",
   "id": "bc6156aa-8e29-4a7d-b6c6-264cfbb3f267",
   "metadata": {},
   "source": [
    "We see that the ground state is antiferromagnetic---this makes sense, since we set $J$ to be positive.\n",
    "\n",
    "Now try implementing the two-site correlator $\\langle \\psi | \\sigma_i^z \\sigma_j^z | \\psi \\rangle - \\langle \\psi | \\sigma_i^z | \\psi \\rangle \\langle \\psi | \\sigma_j^z | \\psi \\rangle $! If you really want to have fun, make a 2D scatter plot of the correlator between each pair of sites."
   ]
  },
  {
   "cell_type": "code",
   "execution_count": null,
   "id": "4ba5dd4d",
   "metadata": {},
   "outputs": [],
   "source": [
    "# Exercise: implement the two-site correlator, and plot it!\n"
   ]
  },
  {
   "cell_type": "markdown",
   "id": "823cd2c7",
   "metadata": {},
   "source": [
    "OK, next exercise: let's look at the phase transition! Remember, if we add a small symmetry breaking term (like a weak $Z$ field), we expect the total magnetization $\\sum_i \\sigma_i^z$ to be large on one side of the phase transition, and go to zero on the other side. Your goal here is to solve for the ground state for many different values of $h$, calculating the total magnetization for each one. Then plot that total magnetization as a function of $h$!"
   ]
  },
  {
   "cell_type": "code",
   "execution_count": null,
   "id": "ef748a83",
   "metadata": {},
   "outputs": [],
   "source": [
    "# here is a function to measure the total magnetization of a state, to get you started!\n",
    "\n",
    "def measure_mtot(state):\n",
    "    mtot = index_sum(sigmaz(0))\n",
    "    exp_value = state.dot(mtot*state)\n",
    "    return exp_value.real  # only need the real part, it's Hermitian"
   ]
  },
  {
   "cell_type": "code",
   "execution_count": null,
   "id": "2aeb01ce",
   "metadata": {},
   "outputs": [],
   "source": [
    "# Exercise: sweep h through the phase transition, and measure the total magnetization of the ground state\n",
    "# at each step. You can use the tfim(J, h) function from earlier to build the Hamiltonian, but \n",
    "# don't forget to add a weak (maybe order 1e-5) symmetry-breaking Z-field! \n",
    "# Also, don't forget that J must be negative to see the ferromagnet.\n",
    "\n",
    "# Then you can use matplotlib to plot the magnetization through the transition!\n"
   ]
  },
  {
   "cell_type": "markdown",
   "id": "93f96bfb-a916-46c9-866a-e39ade943e76",
   "metadata": {},
   "source": [
    "### Calculating interior eigvalues\n",
    "\n",
    "dynamite can calculate more than just the ground state---it can also solve for portions of the interior eigenvalues. Do note that doing so is significantly slower and uses more memory than solving for ground states---but it's still way more efficient than solving for the full spectrum, if all you need is a few states in the middle of the spectrum.\n",
    "\n",
    "**Important**: do *not* use dynamite's eigensolver to try to solve for the whole spectrum---that's not what it's designed for, and it will not work well. If you need all the eigenvalues/eigenstates, it is faster to just convert the operator to a dense NumPy matrix by calling `.to_numpy(sparse=False)`, and then use NumPy or SciPy's eigensolvers on the result. \n",
    "\n",
    "To calculate interior eigenvalues, we pass the `target` parameter to `.eigsolve`. This will solve for the eigenvalue (or set of `nev` eigenvalues) nearest in value to the target. For example, to solve for the 10 eigenpairs with eigenvalues closest to -0.5:"
   ]
  },
  {
   "cell_type": "code",
   "execution_count": null,
   "id": "f94f4f66-7707-4607-bbcb-a3d60c802086",
   "metadata": {},
   "outputs": [],
   "source": [
    "H = tfim(-1, 0.5) + 1e-6*index_sum(sigmaz())\n",
    "\n",
    "eigvals, eigvecs = H.eigsolve(target=-0.5, nev=10, getvecs=True)\n",
    "\n",
    "print(eigvals)"
   ]
  },
  {
   "cell_type": "markdown",
   "id": "35b03e7b-bdb0-449b-b6f6-299d7884f08f",
   "metadata": {},
   "source": [
    "And as expected the total magnetization of a highly excited state is less than that of the ground state:"
   ]
  },
  {
   "cell_type": "code",
   "execution_count": null,
   "id": "356c13f7-7706-446e-b7ec-f423145d6daa",
   "metadata": {},
   "outputs": [],
   "source": [
    "eigvals, eigvecs = H.eigsolve(getvecs=True)  # solve for the ground state\n",
    "ground_state = eigvecs[0]\n",
    "print('ground state magnetization:         ', measure_mtot(ground_state))\n",
    "\n",
    "eigvals, eigvecs = H.eigsolve(target=-0.1, getvecs=True)  # solve for excited state near energy -0.1\n",
    "excited_state = eigvecs[0]\n",
    "print('highly excited state magnetization: ', measure_mtot(excited_state))"
   ]
  },
  {
   "cell_type": "markdown",
   "id": "0368ff48-9981-41e9-8ac0-204594430cc5",
   "metadata": {},
   "source": [
    "## Up next\n",
    "\n",
    "[Continue to notebook 4](4-TimeEvolution.ipynb) to learn how to compute time evolution under a Hamiltonian."
   ]
  }
 ],
 "metadata": {
  "kernelspec": {
   "display_name": "Python 3 (ipykernel)",
   "language": "python",
   "name": "python3"
  },
  "language_info": {
   "codemirror_mode": {
    "name": "ipython",
    "version": 3
   },
   "file_extension": ".py",
   "mimetype": "text/x-python",
   "name": "python",
   "nbconvert_exporter": "python",
   "pygments_lexer": "ipython3",
   "version": "3.9.13"
  }
 },
 "nbformat": 4,
 "nbformat_minor": 5
}
