{
 "cells": [
  {
   "cell_type": "markdown",
   "id": "a37dbc93-2998-4d53-81aa-2137022f77b4",
   "metadata": {},
   "source": [
    "# Building operators"
   ]
  },
  {
   "cell_type": "markdown",
   "id": "1b8113bd-9a7e-4235-9051-9914a6e631ed",
   "metadata": {},
   "source": [
    "dynamite is designed to study systems of interacting spin-1/2 particles, with arbitrary interactions. It can be used for both time evolution under a Hamiltonian, as well as solving for eigenvalues and eigenstates. In this notebook we will learn the basics of building quantum operators. \n",
    "\n",
    "The full documentation for operators in dynamite can be found [here](https://dynamite.readthedocs.io/en/stable/dynamite.operators.html)."
   ]
  },
  {
   "cell_type": "markdown",
   "id": "fbac1142-6483-4458-a983-c2a69b1c7524",
   "metadata": {},
   "source": [
    "### The Pauli matrices\n",
    "\n",
    "The building blocks for operators in dynamite are the Pauli matrices:"
   ]
  },
  {
   "cell_type": "code",
   "execution_count": null,
   "id": "f6f13196-187d-43a4-b937-e34f133f0b10",
   "metadata": {},
   "outputs": [],
   "source": [
    "from dynamite.operators import sigmax, sigmay, sigmaz, identity"
   ]
  },
  {
   "cell_type": "markdown",
   "id": "8acc8a0a-c3c0-4f91-abc1-0df9dd152da8",
   "metadata": {},
   "source": [
    "Try creating a $\\sigma^x$ operator:"
   ]
  },
  {
   "cell_type": "code",
   "execution_count": null,
   "id": "f71fd8f4-a14c-4701-8577-2a954163cc28",
   "metadata": {},
   "outputs": [],
   "source": [
    "# run this cell to evaluate the sigmax() function\n",
    "sigmax()"
   ]
  },
  {
   "cell_type": "markdown",
   "id": "8ac30519-710d-4675-b53d-39067c6b98cb",
   "metadata": {},
   "source": [
    "In a Jupyter notebook, dynamite displays the operator using TeX. If you want to see the matrix itself you can make a NumPy array out of it:"
   ]
  },
  {
   "cell_type": "code",
   "execution_count": null,
   "id": "c15224a8-e827-4a83-9909-06a1d514d701",
   "metadata": {},
   "outputs": [],
   "source": [
    "sigmax().to_numpy(sparse=False)"
   ]
  },
  {
   "cell_type": "markdown",
   "id": "02a57253-37a2-4a00-bb2f-18f8f2c4832f",
   "metadata": {},
   "source": [
    "Nice. You may have noticed the subscript 0 on the TeX output. This denotes the site the operator is on: when called with no arguments, the Pauli operators are created on site 0. It is implied that the operator is tensored with the identity operator on all other sites.\n",
    "\n",
    "You can specify a different site for the operator by passing an integer to the function:"
   ]
  },
  {
   "cell_type": "code",
   "execution_count": null,
   "id": "26d900ee-11c9-4c71-ab2b-a4989a55689c",
   "metadata": {},
   "outputs": [],
   "source": [
    "# make a Pauli X on site 2\n",
    "sigmax(2)"
   ]
  },
  {
   "cell_type": "markdown",
   "id": "38dea906-9744-4eda-9e12-ebec67c858ba",
   "metadata": {},
   "source": [
    "### Combining operators\n",
    "\n",
    "Operators combine in the way that you would expect, for example via addition with `+` and multiplication with `*`.\n",
    "\n",
    "Try making a two-body XX operator on sites 2 and 3, by multiplying together two Pauli X's:"
   ]
  },
  {
   "cell_type": "code",
   "execution_count": null,
   "id": "8c54c567-718d-4d08-a55c-e21badf15a4d",
   "metadata": {},
   "outputs": [],
   "source": [
    "sigmax(2)*sigmax(3)"
   ]
  },
  {
   "cell_type": "markdown",
   "id": "c898a246-f1fc-492e-8f92-02516ee1e042",
   "metadata": {},
   "source": [
    "You can also add operators to each other, and add and multiply constants (which are interpreted as the identity times that constant). Play around with it in the above cell if you like!"
   ]
  },
  {
   "cell_type": "markdown",
   "id": "6632528b-38fc-478e-9e19-101035207e45",
   "metadata": {},
   "source": [
    "You can manipulate operators more or less like you would any other arithmetic object in Python. For example, the Python builtin `sum`:"
   ]
  },
  {
   "cell_type": "code",
   "execution_count": null,
   "id": "78767cc3-47fe-497f-b751-622043645b30",
   "metadata": {},
   "outputs": [],
   "source": [
    "sum(sigmax(i) for i in range(5))"
   ]
  },
  {
   "cell_type": "markdown",
   "id": "c43bcd3d-aa9b-4385-9609-f6c36e2c719e",
   "metadata": {},
   "source": [
    "We should note, though, that there's actually a better way to translate operators across a 1D spin chain: the `index_sum` and `index_product` functions. Before we get to those, let's look at how to specify the length of the spin chain."
   ]
  },
  {
   "cell_type": "markdown",
   "id": "8eee3638-cf77-4f87-862d-1446ea788987",
   "metadata": {},
   "source": [
    "### Specifying the spin chain length"
   ]
  },
  {
   "cell_type": "markdown",
   "id": "a89936be-39d5-40b6-80a5-f29e2ee04592",
   "metadata": {},
   "source": [
    "It's usually most convenient to set the spin chain length globally at the beginning of your program:"
   ]
  },
  {
   "cell_type": "code",
   "execution_count": null,
   "id": "2c6cfe40-41a0-4cb0-8731-bafdafc5850c",
   "metadata": {},
   "outputs": [],
   "source": [
    "from dynamite import config\n",
    "config.L = 8"
   ]
  },
  {
   "cell_type": "code",
   "execution_count": null,
   "id": "40bc98df-23e3-4e58-8088-bf8018d892ed",
   "metadata": {},
   "outputs": [],
   "source": [
    "z = sigmaz()  # this operator inherits the spin chain length from config.L\n",
    "\n",
    "z.L           # output the length of spin chain this operator lives on"
   ]
  },
  {
   "cell_type": "markdown",
   "id": "14f09ae5-d388-46e5-8318-9dad1fe83a0f",
   "metadata": {},
   "source": [
    "If needed, you can also get and set the length of the spin chain of individual operators via the `L` property:"
   ]
  },
  {
   "cell_type": "code",
   "execution_count": null,
   "id": "8ab146fd-101e-4b25-9f35-f4d8b75d561e",
   "metadata": {},
   "outputs": [],
   "source": [
    "z.L = 8        # set the length"
   ]
  },
  {
   "cell_type": "markdown",
   "id": "7cdc5ac5-739e-4f00-872b-2f3b814aadf9",
   "metadata": {},
   "source": [
    "OK, now we're ready to learn about translating operators across the chain."
   ]
  },
  {
   "cell_type": "markdown",
   "id": "53a62c5e-2b72-4bcd-96f0-7bf9fdd906f8",
   "metadata": {},
   "source": [
    "### Translating operators across a 1D chain\n",
    "\n",
    "Using 1D spin chains in dynamite is so common that there are some convenience functions for it (which are also faster than `sum`, for large operators)."
   ]
  },
  {
   "cell_type": "code",
   "execution_count": null,
   "id": "456474db-8ca1-4c2b-b7a4-684e7f779b64",
   "metadata": {},
   "outputs": [],
   "source": [
    "from dynamite.operators import index_sum, index_product"
   ]
  },
  {
   "cell_type": "markdown",
   "id": "3b948571-0bc0-40fc-a34d-7b8751f54741",
   "metadata": {},
   "source": [
    "Try calling the `index_sum` function on a `sigmax()` operator:"
   ]
  },
  {
   "cell_type": "code",
   "execution_count": null,
   "id": "f34c9dce-79cf-48af-8fed-059b488706e9",
   "metadata": {},
   "outputs": [],
   "source": [
    "# translate a Pauli X operator across the spin chain\n",
    "index_sum(sigmax())"
   ]
  },
  {
   "cell_type": "markdown",
   "id": "e12e255f-b56f-4ddb-a671-198c6522c7cd",
   "metadata": {},
   "source": [
    "Because we set `config.L` to 8, we now have operators on sites 0 through 7 (all of them).\n",
    "\n",
    "Note that if we pass a many-body operator, the sum will be adjusted accordingly. Try passing a two-body XX operator on sites 0 and 1 to `index_sum`:"
   ]
  },
  {
   "cell_type": "code",
   "execution_count": null,
   "id": "e27695a8-1c88-4af1-8311-78682e52b6dc",
   "metadata": {},
   "outputs": [],
   "source": [
    "# translate an XX operator across the spin chain\n",
    "index_sum(sigmax(0)*sigmax(1))"
   ]
  },
  {
   "cell_type": "markdown",
   "id": "34d5df25-d1c8-4e58-a8c3-974c19297619",
   "metadata": {},
   "source": [
    "Note that for our 8 site chain, the sum only goes from 0 to 6 this time, so we don't go off the end of the chain.\n",
    "You can try adding the parameter `boundary='closed'` to `index_sum` to get closed boundary conditions!"
   ]
  },
  {
   "cell_type": "markdown",
   "id": "75d572eb-69ba-4b59-8f87-c8ee4a4564f2",
   "metadata": {},
   "source": [
    "For complicated operators, you may want to inspect the individual terms by printing the output of the `.table()` function: "
   ]
  },
  {
   "cell_type": "code",
   "execution_count": null,
   "id": "115578ec-e563-476f-9ac3-97b448165c8c",
   "metadata": {},
   "outputs": [],
   "source": [
    "op = index_sum(sigmax(0)*sigmax(1))\n",
    "print(op.table())"
   ]
  },
  {
   "cell_type": "markdown",
   "id": "48d74ff0-0dac-4a1e-adb2-31e79bd67b15",
   "metadata": {},
   "source": [
    "With closed boundary conditions, we see the \"wrap-around\" term:"
   ]
  },
  {
   "cell_type": "code",
   "execution_count": null,
   "id": "4679a902-4b9d-4473-9d0f-04724338370f",
   "metadata": {},
   "outputs": [],
   "source": [
    "op = index_sum(sigmax(0)*sigmax(1), boundary='closed')\n",
    "print(op.table())"
   ]
  },
  {
   "cell_type": "markdown",
   "id": "6f7e28a5-c49c-406e-85ae-8eeaa271e8e2",
   "metadata": {},
   "source": [
    "As you might expect, `index_product` works like `index_sum`, but it's a product instead of a sum:"
   ]
  },
  {
   "cell_type": "code",
   "execution_count": null,
   "id": "a4116cd2-dbcb-48e4-b92d-401c1949d0ea",
   "metadata": {},
   "outputs": [],
   "source": [
    "index_product(sigmaz())"
   ]
  },
  {
   "cell_type": "markdown",
   "id": "d520ad5d-527f-49d6-8058-76985f5144d7",
   "metadata": {},
   "source": [
    "### Exercise: Putting it all together\n",
    "\n",
    "Try writing a function that implements a classic Hamiltonian: the transverse field Ising model! The Hamiltonian we want is\n",
    "\n",
    "$$H = J \\sum_i \\sigma^z_i \\sigma^z_{i+1} + h \\sum_i \\sigma^x_i$$"
   ]
  },
  {
   "cell_type": "code",
   "execution_count": null,
   "id": "0b2fbd1b-8569-43e9-a92a-8ce579bdd476",
   "metadata": {},
   "outputs": [],
   "source": [
    "def tfim(J, h):\n",
    "    H = identity()  # TODO: your code here to define and return H\n",
    "    return H\n",
    "\n",
    "# test it out! Should return the correct Hamiltonian, which will output in TeX\n",
    "# note that config.L is still set to 8 from above\n",
    "tfim(1, 0.5)"
   ]
  },
  {
   "cell_type": "code",
   "execution_count": null,
   "id": "6d2afe46-048f-4ea8-af8f-38fedf815bfc",
   "metadata": {},
   "outputs": [],
   "source": [
    "print(tfim(1, 0.5).table())"
   ]
  },
  {
   "cell_type": "markdown",
   "id": "6ad56ba9-e08a-486d-a095-9c667f36901b",
   "metadata": {},
   "source": [
    "## More about operators"
   ]
  },
  {
   "cell_type": "markdown",
   "id": "62e4fa38-843a-494c-b1d5-d74d6fef44db",
   "metadata": {},
   "source": [
    "### Working with sparse matrices\n",
    "\n",
    "A key feature of dynamite is that it deals with matrices in sparse format---that is, it only stores non-zero matrix elements (or can be configured to not store the matrix elements at all, see the notebook about \"shell\" matrices!)\n",
    "\n",
    "For example, let's look at the matrix underlying your transverse field Ising model operator."
   ]
  },
  {
   "cell_type": "code",
   "execution_count": null,
   "id": "f904f299-3ab4-452b-8318-2b42f2108046",
   "metadata": {},
   "outputs": [],
   "source": [
    "config.L = 5  # so it's not crazy huge\n",
    "H = tfim(1, 0.5)\n",
    "H.to_numpy(sparse=False)"
   ]
  },
  {
   "cell_type": "markdown",
   "id": "50acf972-9a64-4655-bbc5-314dd20e1361",
   "metadata": {},
   "source": [
    "It's clearly a lot of zeros, but it's kind of hard to visualize what's going on here---we can use the `.spy()` method to see the nonzero structure of the matrix:"
   ]
  },
  {
   "cell_type": "code",
   "execution_count": null,
   "id": "1bcc6801-4aa5-488a-af21-ddf7fc28afd6",
   "metadata": {},
   "outputs": [],
   "source": [
    "H.spy()"
   ]
  },
  {
   "cell_type": "markdown",
   "id": "ecc60353-b786-41f7-965c-abcedd7bdd6f",
   "metadata": {},
   "source": [
    "Black squares represent nonzero terms; the white ones are zero. This is why dynamite uses a sparse representation, to avoid storing all those extra zeros.\n",
    "\n",
    "If you want a NumPy representation of an operator in sparse format, you can simply call `.to_numpy()` without the `sparse=False` option."
   ]
  },
  {
   "cell_type": "code",
   "execution_count": null,
   "id": "4124cea2-47a2-4b43-822b-a04b75aa294d",
   "metadata": {},
   "outputs": [],
   "source": [
    "H.to_numpy()"
   ]
  },
  {
   "cell_type": "markdown",
   "id": "5aca85d5-0f6d-475a-a030-bc2d120e1c08",
   "metadata": {},
   "source": [
    "For most computations you will want to use dynamite's built-in algorithms rather than converting the matrix to NumPy, but if there is a situation where you want to use NumPy, you can always use dynamite just to build the matrix!"
   ]
  },
  {
   "cell_type": "markdown",
   "id": "db002338-3000-4ca8-9600-631b5e0788cd",
   "metadata": {},
   "source": [
    "## Up next\n",
    "\n",
    "[Continue to notebook 2](2-States.ipynb) to learn about the `State` class."
   ]
  }
 ],
 "metadata": {
  "kernelspec": {
   "display_name": "Python 3 (ipykernel)",
   "language": "python",
   "name": "python3"
  },
  "language_info": {
   "codemirror_mode": {
    "name": "ipython",
    "version": 3
   },
   "file_extension": ".py",
   "mimetype": "text/x-python",
   "name": "python",
   "nbconvert_exporter": "python",
   "pygments_lexer": "ipython3",
   "version": "3.9.13"
  }
 },
 "nbformat": 4,
 "nbformat_minor": 5
}
