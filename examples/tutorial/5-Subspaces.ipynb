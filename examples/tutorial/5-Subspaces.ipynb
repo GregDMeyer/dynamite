{
 "cells": [
  {
   "cell_type": "markdown",
   "metadata": {},
   "source": [
    "# Using subspaces"
   ]
  },
  {
   "cell_type": "markdown",
   "metadata": {},
   "source": [
    "Often times, we encounter operators that have some conservation law. `dynamite` can take advantage of certain conservation laws by working in a restricted subspace.\n",
    "\n",
    "Here's a quick summary in table form of the subspaces implemented in `dynamite`, and the operator whose eigenspaces define the subspace:\n",
    "\n",
    "|    Subspace    |                 Operator                |\n",
    "|----------------|-----------------------------------------|\n",
    "| `SpinConserve` | $\\sum_i S^z_i$ (total magnetization)    |\n",
    "| `Parity`       | $\\prod_i Z_i$ (parity of # of up spins) |\n",
    "| `XParity`      | $\\prod_i X_i$                           |\n",
    "| `Explicit`     | (user-defined)                          |\n",
    "| `Auto`         | (user-defined)                          |"
   ]
  },
  {
   "cell_type": "markdown",
   "metadata": {
    "tags": []
   },
   "source": [
    "## SpinConserve\n",
    "\n",
    "The first conservation law we will look at is conservation of total magnetization. One of our favorite models with this symmetry is the Heisenberg model:\n",
    "\n",
    "$$H = \\sum_{\\langle i,j \\rangle} \\vec{S}_i \\cdot \\vec{S}_j$$\n",
    "\n",
    "where $\\vec{S} = (S^x, S^y, S^z)$. \n",
    "\n",
    "Let's implement it:"
   ]
  },
  {
   "cell_type": "code",
   "execution_count": null,
   "metadata": {
    "tags": []
   },
   "outputs": [],
   "source": [
    "# always a good idea to set the spin chain length globally\n",
    "from dynamite import config\n",
    "config.L = 24"
   ]
  },
  {
   "cell_type": "code",
   "execution_count": null,
   "metadata": {
    "tags": []
   },
   "outputs": [],
   "source": [
    "from dynamite.operators import sigmax, sigmay, sigmaz, index_sum\n",
    "\n",
    "def heisenberg():\n",
    "    paulis = [sigmax, sigmay, sigmaz]\n",
    "    return index_sum(sum(0.25*p(0)*p(1) for p in paulis))  # 0.25 to account for the factors of 1/2 in each spin operator!\n",
    "\n",
    "# let's run the function and see what we get\n",
    "H = heisenberg()\n",
    "H"
   ]
  },
  {
   "cell_type": "markdown",
   "metadata": {},
   "source": [
    "Looks pretty good! What is the dimension of the matrix corresponding to this operator?"
   ]
  },
  {
   "cell_type": "code",
   "execution_count": null,
   "metadata": {
    "tags": []
   },
   "outputs": [],
   "source": [
    "H.dim"
   ]
  },
  {
   "cell_type": "markdown",
   "metadata": {},
   "source": [
    "A dimension $2^{24} \\sim 16$ million square matrix. Even though it's sparse, storing that matrix would probably make your laptop pretty unhappy. \n",
    "\n",
    "(You may be wondering: why isn't my laptop *already* unhappy, didn't I just build the matrix? In fact no, dynamite delays building the matrix until it needs to, for example when you use it in a computation).\n",
    "\n",
    "Let's see what happens if we instead switch to working in the total magnetization conserving subspace:"
   ]
  },
  {
   "cell_type": "code",
   "execution_count": null,
   "metadata": {
    "tags": []
   },
   "outputs": [],
   "source": [
    "from dynamite.subspaces import SpinConserve"
   ]
  },
  {
   "cell_type": "code",
   "execution_count": null,
   "metadata": {
    "tags": []
   },
   "outputs": [],
   "source": [
    "# L is total spins, k is the number of \"up\" spins\n",
    "# here we work in the half filling symmetry sector \n",
    "H.subspace = SpinConserve(L=config.L, k=config.L//2)\n",
    "H.dim"
   ]
  },
  {
   "cell_type": "markdown",
   "metadata": {},
   "source": [
    "The dimension has been reduced by a factor of more than 6! In fact, it has been reduced to 24 choose 12, which is what we would expect for total spin conservation:"
   ]
  },
  {
   "cell_type": "code",
   "execution_count": null,
   "metadata": {
    "tags": []
   },
   "outputs": [],
   "source": [
    "from scipy.special import binom\n",
    "binom(24, 12)"
   ]
  },
  {
   "cell_type": "markdown",
   "metadata": {},
   "source": [
    "Note that subspaces can be applied to State objects in addition to operators:"
   ]
  },
  {
   "cell_type": "code",
   "execution_count": null,
   "metadata": {
    "tags": []
   },
   "outputs": [],
   "source": [
    "from dynamite.states import State"
   ]
  },
  {
   "cell_type": "code",
   "execution_count": null,
   "metadata": {
    "tags": []
   },
   "outputs": [],
   "source": [
    "psi = State(state='U'*12 + 'D'*12,  # first half spins up, second half down\n",
    "            subspace=SpinConserve(L=config.L, k=config.L//2))\n",
    "len(psi)"
   ]
  },
  {
   "cell_type": "markdown",
   "metadata": {},
   "source": [
    "Note that the product state we specify must be in the subspace:"
   ]
  },
  {
   "cell_type": "code",
   "execution_count": null,
   "metadata": {
    "tags": []
   },
   "outputs": [],
   "source": [
    "try:\n",
    "    # this causes an error\n",
    "    psi = State(state='U'*11 + 'D'*13,  # first 11 spins up\n",
    "                subspace=SpinConserve(L=config.L, k=config.L//2))\n",
    "except ValueError as e:\n",
    "    print(e)"
   ]
  },
  {
   "cell_type": "markdown",
   "metadata": {},
   "source": [
    "### The `XParity` subspace\n",
    "\n",
    "We are not done yet: the Heisenberg model has an *additional* $\\mathbb{Z}_2$ (spin flip) symmetry in addition to the total magnetization conservation. We can apply the `XParity` subspace on top of `SpinFlip` to yield an even smaller subspace:"
   ]
  },
  {
   "cell_type": "code",
   "execution_count": null,
   "metadata": {
    "tags": []
   },
   "outputs": [],
   "source": [
    "from dynamite.subspaces import XParity\n",
    "subspace = XParity(\n",
    "    SpinConserve(L=config.L, k=config.L//2),\n",
    "    sector='+'  # '+' means that we are in the symmetric symmetry sector, '-' for antisymmetric\n",
    ")\n",
    "\n",
    "subspace.get_dimension()  # half as big as before!"
   ]
  },
  {
   "cell_type": "markdown",
   "metadata": {},
   "source": [
    "Note that `XParity` is the *only* subspace that can be applied on top of another one. The basis states of the other subspaces are product states (in the $Z$ basis)---they make the Hilbert space smaller by simply ignoring product states in other symmetry sectors. `XParity`, however, is the only subspace whose basis states are *not* product states. It combines two product states in the parent subspace into a single basis state, of the form\n",
    "\n",
    "$$\\left|\\psi_c\\right> = \\left|c\\right> \\pm \\left|\\bar c\\right>$$\n",
    "\n",
    "where $\\left|c\\right>$ is a product state in the $Z$ basis, and $\\left|\\bar c\\right>$ is the complement (all spins flipped) of that state. The sign in between the two states is controlled by the `sector` argument to `XParity`."
   ]
  },
  {
   "cell_type": "code",
   "execution_count": null,
   "metadata": {
    "tags": []
   },
   "outputs": [],
   "source": [
    "# exercise: create a state in the XParity SpinConserve subspace\n",
    "# and confirm that the global spin-flip operator has the expected eigenvalue \n",
    "# (+1 for the symmetric subspace, -1 for antisymmetric)\n",
    "\n",
    "# it's easiest to set the subspace globally so it will be applied to both\n",
    "# the spin-flip operator and the state you create. do it like this:\n",
    "# config.subspace = ... TODO ...\n",
    "\n",
    "# here is the global spin-flip operator, to get you started\n",
    "from dynamite.operators import index_product\n",
    "global_spinflip_operator = index_product(sigmax())\n",
    "\n",
    "# your code for computing the expectation value (eigenvalue in this case) here!\n",
    "# don't forget to initialize your State object to something (a product state, or random is fine)\n"
   ]
  },
  {
   "cell_type": "markdown",
   "metadata": {},
   "source": [
    "## Parity\n",
    "\n",
    "The next subspace we'll examine is parity conservation. This means that the total number of up spins is not globally conserved, but is instead conserved mod 2. This is the same conservation law as `XParity`, but in the $Z$ basis instead of the $X$ basis.\n",
    "\n",
    "For this, we'll use the following long-range XX+Z model:"
   ]
  },
  {
   "cell_type": "code",
   "execution_count": null,
   "metadata": {
    "tags": []
   },
   "outputs": [],
   "source": [
    "config.subspace = None  # clear out any leftover configured subspace from above\n",
    "\n",
    "from dynamite.operators import sigmax, sigmaz, index_sum, op_sum\n",
    "\n",
    "def XXZ():\n",
    "    interaction = op_sum(index_sum(sigmax(0)*sigmax(i)) for i in range(1, config.L))\n",
    "    uniform_field = 0.5*index_sum(sigmaz())\n",
    "    return interaction + uniform_field\n",
    "\n",
    "# look at an example. we still have L=24 set from above\n",
    "XXZ()"
   ]
  },
  {
   "cell_type": "markdown",
   "metadata": {},
   "source": [
    "We can see by inspection of the Hamiltonian's definition that the X terms are always two-body, meaning that parity is conserved in the Z product state basis. We can easily apply this subspace in dynamite:"
   ]
  },
  {
   "cell_type": "code",
   "execution_count": null,
   "metadata": {
    "tags": []
   },
   "outputs": [],
   "source": [
    "H = XXZ()\n",
    "\n",
    "print('full space dimension:     ', H.dim)\n",
    "\n",
    "from dynamite.subspaces import Parity\n",
    "H.subspace = Parity('even')\n",
    "\n",
    "print('parity subspace dimension:', H.dim)"
   ]
  },
  {
   "cell_type": "markdown",
   "metadata": {},
   "source": [
    "As expected, the dimension was cut in half. If you want the symmetry sector which has an odd number of up spins, just pass 'odd' to the subspace.\n",
    "\n",
    "Note that we cannot use `XParity` for this Hamiltonian because it doesn't conserve parity in the $X$ basis. But we could re-write the Hamiltonian to be ZZ+X instead of XX+Z, in which case `XParity` would work. (Feel free to try this if you'd like!)"
   ]
  },
  {
   "cell_type": "markdown",
   "metadata": {},
   "source": [
    "## Explicit"
   ]
  },
  {
   "cell_type": "markdown",
   "metadata": {},
   "source": [
    "The last subspace that we will discuss here is the Explicit subspace. This allows you to define your own basis of product states! You could you this, for example, to define a Rydberg basis in which no up spin is adjacent to another up spin, for some aribtrary connectivity.\n",
    "\n",
    "Under the hood, dynamite represents product states as integers, where each bit of the integer represents a spin (0=up, 1=down). The least significant bit of the integer is spin 0. This is how we will pass our array of product states to the Explicit subspace.\n",
    "\n",
    "As a simple example here, we will reproduce the total magnetization conservation subspace by hand!"
   ]
  },
  {
   "cell_type": "code",
   "execution_count": null,
   "metadata": {
    "tags": []
   },
   "outputs": [],
   "source": [
    "# let's use numpy's function that counts the number of set bits in an integer,\n",
    "# to pick out all integers between 0 and 2^L-1 that have L//2 bits set to 1 \n",
    "import numpy as np\n",
    "\n",
    "# note: this toy example is very slow, you probably want to do something more clever \n",
    "# with e.g. numpy vectorization when creating your own list of states for Explicit subspaces!\n",
    "config.L = 18\n",
    "subspace_product_states = [x for x in range(2**config.L) if np.int64(x).bit_count() == config.L//2]\n",
    "\n",
    "# show that these states all have half spins up:\n",
    "def print_first_states(state_list):\n",
    "    for x in state_list[:10]:\n",
    "        print(bin(x)[2:].zfill(config.L)) # print binary representation, with leading zeros\n",
    "    print('...')\n",
    "    \n",
    "print_first_states(subspace_product_states)"
   ]
  },
  {
   "cell_type": "markdown",
   "metadata": {},
   "source": [
    "Now that we have our list of product states for the basis, we simply call the Explicit subspace:"
   ]
  },
  {
   "cell_type": "code",
   "execution_count": null,
   "metadata": {
    "tags": []
   },
   "outputs": [],
   "source": [
    "from dynamite.subspaces import Explicit"
   ]
  },
  {
   "cell_type": "code",
   "execution_count": null,
   "metadata": {
    "tags": []
   },
   "outputs": [],
   "source": [
    "explicit_subsp = Explicit(subspace_product_states)\n",
    "\n",
    "# it's equivalent to the SpinConserve one! just made by hand\n",
    "explicit_subsp == SpinConserve(config.L, config.L//2)"
   ]
  },
  {
   "cell_type": "markdown",
   "metadata": {},
   "source": [
    "## Auto"
   ]
  },
  {
   "cell_type": "markdown",
   "metadata": {},
   "source": [
    "Lastly, let's take a look at the `Auto` subspace. \n",
    "It's actually a subclass of `Explicit`, but in this case the user isn't responsible for supplying the list of product states. \n",
    "Instead, it's determined automatically from a given Hamiltonian and product state. \n",
    "Under the hood, `Auto` performs a breadth-first-search through the graph of product states for which the Hamiltonian is an adjacency matrix---thus automatically determining which subset of product states are in the same symmetry sector. \n",
    "\n",
    "As an example, we show yet another way of reproducing the `SpinConserve` subspace: by applying `Auto` to the Heisenberg model we defined at the beginning of this notebook!"
   ]
  },
  {
   "cell_type": "code",
   "execution_count": null,
   "metadata": {
    "tags": []
   },
   "outputs": [],
   "source": [
    "from dynamite.subspaces import Auto\n",
    "\n",
    "half = config.L // 2\n",
    "init_state = 'U'*half + 'D'*half\n",
    "auto_subsp = Auto(heisenberg(), init_state)\n",
    "\n",
    "# check out the first few states\n",
    "print_first_states(auto_subsp.idx_to_state(np.arange(10)))"
   ]
  },
  {
   "cell_type": "code",
   "execution_count": null,
   "metadata": {
    "tags": []
   },
   "outputs": [],
   "source": [
    "# explicitly check that this again reproduces the SpinConserve subspace\n",
    "auto_subsp == SpinConserve(config.L, config.L//2)"
   ]
  },
  {
   "cell_type": "markdown",
   "metadata": {},
   "source": [
    "By default, `Auto` sorts the list of states it computes via the breadth-first search. However, the sorting can be turned off, in which case `Auto` directly uses the ordering resulting from the breadth-first search.\n",
    "This ordering is called [Cuthill-McKee](https://en.wikipedia.org/wiki/Cuthill%E2%80%93McKee_algorithm) and can improve the performance of certain algorithms, such as the shift-invert spectral transformation used by dynamite to solve for eigenpairs in the middle of the spectrum."
   ]
  },
  {
   "cell_type": "code",
   "execution_count": null,
   "metadata": {
    "tags": []
   },
   "outputs": [],
   "source": [
    "unsorted_auto_subsp = Auto(heisenberg(), init_state, sort=False)\n",
    "print_first_states(unsorted_auto_subsp.idx_to_state(np.arange(10)))"
   ]
  },
  {
   "cell_type": "markdown",
   "metadata": {},
   "source": [
    "## Up next\n",
    "\n",
    "[Continue to notebook 6](6-ShellMatrices.ipynb) to learn how to save memory through \"matrix-free\" computation. "
   ]
  }
 ],
 "metadata": {
  "kernelspec": {
   "display_name": "Python 3 (ipykernel)",
   "language": "python",
   "name": "python3"
  },
  "language_info": {
   "codemirror_mode": {
    "name": "ipython",
    "version": 3
   },
   "file_extension": ".py",
   "mimetype": "text/x-python",
   "name": "python",
   "nbconvert_exporter": "python",
   "pygments_lexer": "ipython3",
   "version": "3.11.8"
  }
 },
 "nbformat": 4,
 "nbformat_minor": 4
}
