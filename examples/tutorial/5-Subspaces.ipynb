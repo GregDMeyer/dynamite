{
 "cells": [
  {
   "cell_type": "markdown",
   "metadata": {},
   "source": [
    "# Using subspaces"
   ]
  },
  {
   "cell_type": "markdown",
   "metadata": {},
   "source": [
    "Often times, we encounter operators that have some conservation law. `dynamite` can take advantage of certain conservation laws by working in a restricted subspace.\n",
    "\n",
    "**Note**: for performance reasons, dynamite does not currently check that your operator actually conserves the subspace you assign to it. Make sure you are using the right conservation law!"
   ]
  },
  {
   "cell_type": "markdown",
   "metadata": {
    "tags": []
   },
   "source": [
    "## SpinConserve\n",
    "\n",
    "The first conservation law we will look at is conservation of total magnetization. One of our favorite models with this symmetry is the Heisenberg model:\n",
    "\n",
    "$$H = \\sum_{i,j} \\vec{S}_i \\cdot \\vec{S}_j$$\n",
    "\n",
    "where $\\vec{S} = (S^x, S^y, S^z)$. \n",
    "\n",
    "Let's implement it:"
   ]
  },
  {
   "cell_type": "code",
   "execution_count": null,
   "metadata": {},
   "outputs": [],
   "source": [
    "# always a good idea to set the spin chain length globally\n",
    "from dynamite import config\n",
    "config.L = 24"
   ]
  },
  {
   "cell_type": "code",
   "execution_count": null,
   "metadata": {},
   "outputs": [],
   "source": [
    "from dynamite.operators import sigmax, sigmay, sigmaz, index_sum\n",
    "\n",
    "def heisenberg():\n",
    "    paulis = [sigmax, sigmay, sigmaz]\n",
    "    return index_sum(sum(0.25*p(0)*p(1) for p in paulis))  # 0.25 to account for the factors of 1/2 in each spin operator!\n",
    "\n",
    "# let's run the function and see what we get\n",
    "H = heisenberg()\n",
    "H"
   ]
  },
  {
   "cell_type": "markdown",
   "metadata": {},
   "source": [
    "Looks pretty good! What is the dimension of the matrix corresponding to this operator?"
   ]
  },
  {
   "cell_type": "code",
   "execution_count": null,
   "metadata": {},
   "outputs": [],
   "source": [
    "H.dim"
   ]
  },
  {
   "cell_type": "markdown",
   "metadata": {},
   "source": [
    "A dimension $2^{24} \\sim 16$ million square matrix. Even though it's sparse, storing that matrix would probably make your laptop pretty unhappy. \n",
    "\n",
    "(You may be wondering: why isn't my laptop *already* unhappy, didn't I just build the matrix? In fact no, dynamite delays building the matrix until it needs to, for example when you use it in a computation).\n",
    "\n",
    "Let's see what happens if we instead switch to working in the total magnetization conserving subspace:"
   ]
  },
  {
   "cell_type": "code",
   "execution_count": null,
   "metadata": {},
   "outputs": [],
   "source": [
    "from dynamite.subspaces import SpinConserve"
   ]
  },
  {
   "cell_type": "code",
   "execution_count": null,
   "metadata": {},
   "outputs": [],
   "source": [
    "# L is total spins, k is the number of \"up\" spins\n",
    "# here we work in the half filling symmetry sector \n",
    "H.subspace = SpinConserve(L=config.L, k=config.L//2)\n",
    "H.dim"
   ]
  },
  {
   "cell_type": "markdown",
   "metadata": {},
   "source": [
    "The dimension has been reduced by a factor of more than 6! In fact, it has been reduced to 24 choose 12, which is what we would expect for total spin conservation:"
   ]
  },
  {
   "cell_type": "code",
   "execution_count": null,
   "metadata": {},
   "outputs": [],
   "source": [
    "from scipy.special import binom\n",
    "binom(24, 12)"
   ]
  },
  {
   "cell_type": "markdown",
   "metadata": {},
   "source": [
    "Note that subspaces can be applied to State objects in addition to operators:"
   ]
  },
  {
   "cell_type": "code",
   "execution_count": null,
   "metadata": {},
   "outputs": [],
   "source": [
    "from dynamite.states import State"
   ]
  },
  {
   "cell_type": "code",
   "execution_count": null,
   "metadata": {},
   "outputs": [],
   "source": [
    "psi = State(state='U'*12 + 'D'*12,  # first half spins up, second half down\n",
    "            subspace=SpinConserve(L=config.L, k=config.L//2))\n",
    "len(psi)"
   ]
  },
  {
   "cell_type": "markdown",
   "metadata": {},
   "source": [
    "Note that the product state we specify must be in the subspace:"
   ]
  },
  {
   "cell_type": "code",
   "execution_count": null,
   "metadata": {},
   "outputs": [],
   "source": [
    "# this causes an error\n",
    "psi = State(state='U'*11 + 'D'*13,  # first 11 spins up\n",
    "            subspace=SpinConserve(L=config.L, k=config.L//2))"
   ]
  },
  {
   "cell_type": "markdown",
   "metadata": {},
   "source": [
    "### The `spinflip` flag for the SpinConserve subspace\n",
    "\n",
    "Finally, we have one last trick up our sleeve for reducing the dimension of our problem: the Heisenberg model has an *additional* $\\mathbb{Z}_2$ (spin flip) symmetry in addition to the $U(1)$ total magnetization conservation. The SpinConserve subspace has a special flag for including such an extra conservation law:"
   ]
  },
  {
   "cell_type": "code",
   "execution_count": null,
   "metadata": {},
   "outputs": [],
   "source": [
    "SpinConserve(L=config.L, k=config.L//2, spinflip='+')  # '+' means that we are in the symmetric symmetry sector, '-' for antisymmetric"
   ]
  },
  {
   "cell_type": "code",
   "execution_count": null,
   "metadata": {},
   "outputs": [],
   "source": [
    "# exercise: create a state in the SpinConserve subspace with spinflip set\n",
    "# and confirm that the global spinflip operator has the expected eigenvalue \n",
    "# (+1 for the symmetric subspace, -1 for antisymmetric)\n",
    "\n",
    "# it's easiest to set the subspace globally so it will be applied to both\n",
    "# the spinflip operator and the state you create. do it like this:\n",
    "# config.subspace = ... TODO ...\n",
    "\n",
    "# here is the global spinflip operator, to get you started\n",
    "from dynamite.operators import index_product\n",
    "global_spinflip_operator = index_product(sigmax())\n",
    "\n",
    "# your code for computing the expectation value (eigenvalue in this case) here!\n",
    "# don't forget to initialize your State object to something (a product state, or random is fine)\n"
   ]
  },
  {
   "cell_type": "markdown",
   "metadata": {},
   "source": [
    "## Parity\n",
    "\n",
    "The next subspace we'll examine is parity conservation. This means that the total number of up spins is not globally conserved, but is instead conserved mod 2.\n",
    "\n",
    "For this, we'll use the following long-range XX+Z model:"
   ]
  },
  {
   "cell_type": "code",
   "execution_count": null,
   "metadata": {},
   "outputs": [],
   "source": [
    "config.subspace = None  # clear out any leftover configured subspace from above\n",
    "\n",
    "from dynamite.operators import sigmax, sigmaz, index_sum, op_sum\n",
    "\n",
    "def XXZ():\n",
    "    interaction = op_sum(index_sum(sigmax(0)*sigmax(i)) for i in range(1, config.L))\n",
    "    uniform_field = 0.5*index_sum(sigmaz())\n",
    "    return interaction + uniform_field\n",
    "\n",
    "# look at an example. we still have L=24 set from above\n",
    "XXZ()"
   ]
  },
  {
   "cell_type": "markdown",
   "metadata": {},
   "source": [
    "We can see by inspection of the Hamiltonian's definition that the X terms are always two-body, meaning that parity is conserved in the Z product state basis. We can easily apply this subspace in dynamite:"
   ]
  },
  {
   "cell_type": "code",
   "execution_count": null,
   "metadata": {},
   "outputs": [],
   "source": [
    "H = XXZ()\n",
    "\n",
    "print('full space dimension:     ', H.dim)\n",
    "\n",
    "from dynamite.subspaces import Parity\n",
    "H.subspace = Parity('even')\n",
    "\n",
    "print('parity subspace dimension:', H.dim)"
   ]
  },
  {
   "cell_type": "markdown",
   "metadata": {},
   "source": [
    "As expected, the dimension was cut in half. If you want the symmetry sector which has an odd number of up spins, just pass 'odd' to the subspace."
   ]
  },
  {
   "cell_type": "markdown",
   "metadata": {},
   "source": [
    "## Explicit"
   ]
  },
  {
   "cell_type": "markdown",
   "metadata": {},
   "source": [
    "The last subspace that we will discuss here is the Explicit subspace. This allows you to define your own basis of product states! You could you this, for example, to define a Rydberg basis in which no up spin is adjacent to another up spin, for some aribtrary connectivity.\n",
    "\n",
    "Under the hood, dynamite represents product states as integers, where each bit of the integer represents a spin (0=up, 1=down). The least significant bit of the integer is spin 0. This is how we will pass our array of product states to the Explicit subspace.\n",
    "\n",
    "As a simple example here, we will reproduce the total magnetization conservation subspace by hand!"
   ]
  },
  {
   "cell_type": "code",
   "execution_count": null,
   "metadata": {},
   "outputs": [],
   "source": [
    "# let's use numpy's function that counts the number of set bits in an integer,\n",
    "# to pick out all integers between 0 and 2^L-1 that have L//2 bits set to 1 \n",
    "import numpy as np\n",
    "\n",
    "# note: this toy example is very slow, you probably want to do something more clever \n",
    "# with e.g. numpy vectorization when creating your own list of states for Explicit subspaces!\n",
    "config.L = 18\n",
    "subspace_product_states = [x for x in range(2**config.L) if np.int64(x).bit_count() == config.L//2]\n",
    "\n",
    "# show that these states all have half spins up:\n",
    "for x in subspace_product_states[:10]:\n",
    "    print(bin(x)[2:].zfill(config.L)) # print binary representation, with leading zeros\n",
    "print('...')"
   ]
  },
  {
   "cell_type": "markdown",
   "metadata": {},
   "source": [
    "Now that we have our list of product states for the basis, we simply call the Explicit subspace:"
   ]
  },
  {
   "cell_type": "code",
   "execution_count": null,
   "metadata": {},
   "outputs": [],
   "source": [
    "from dynamite.subspaces import Explicit"
   ]
  },
  {
   "cell_type": "code",
   "execution_count": null,
   "metadata": {},
   "outputs": [],
   "source": [
    "explicit_subsp = Explicit(subspace_product_states)\n",
    "explicit_subsp.L = config.L  # config.L does not currently propagate to subspaces\n",
    "\n",
    "# it's equivalent to the SpinConserve one! just made by hand\n",
    "explicit_subsp == SpinConserve(config.L, config.L//2)"
   ]
  },
  {
   "cell_type": "markdown",
   "metadata": {},
   "source": [
    "## Up next\n",
    "\n",
    "[Continue to notebook 6](6-ShellMatrices.ipynb) to learn how to save memory through \"matrix-free\" computation. "
   ]
  }
 ],
 "metadata": {
  "kernelspec": {
   "display_name": "Python 3 (ipykernel)",
   "language": "python",
   "name": "python3"
  },
  "language_info": {
   "codemirror_mode": {
    "name": "ipython",
    "version": 3
   },
   "file_extension": ".py",
   "mimetype": "text/x-python",
   "name": "python",
   "nbconvert_exporter": "python",
   "pygments_lexer": "ipython3",
   "version": "3.9.13"
  }
 },
 "nbformat": 4,
 "nbformat_minor": 4
}
