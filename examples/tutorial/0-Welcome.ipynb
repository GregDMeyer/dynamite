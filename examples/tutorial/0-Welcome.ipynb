{
 "cells": [
  {
   "cell_type": "markdown",
   "id": "7a2bba4c-5a59-40e2-8f64-ddb12cdefe37",
   "metadata": {},
   "source": [
    "## Welcome to dynamite!\n",
    "\n",
    "These notebooks will take you on a tour of dynamite's features and use cases.\n",
    "\n",
    "If you haven't used Jupyter before, each cell of code can be run by highlighting it and pressing Shift+Enter. The easiest way to progress through each notebook is just to repeatedly press Shift-Enter to move to the next cell!\n",
    "\n",
    "The dynamite documentation is online at [dynamite.readthedocs.io](https://dynamite.readthedocs.io/)---you may find it useful during these examples.\n",
    "\n",
    "To complement this tutorial, there is also a set of [example scripts](https://github.com/GregDMeyer/dynamite/tree/master/examples/scripts) which demonstrate useful code patterns for working with dynamite, and can also serve as starting points for research projects.\n",
    "\n",
    "When you're ready to begin the tutorial, [head to notebook 1](1-Operators.ipynb) to jump in!"
   ]
  }
 ],
 "metadata": {
  "kernelspec": {
   "display_name": "Python 3 (ipykernel)",
   "language": "python",
   "name": "python3"
  },
  "language_info": {
   "codemirror_mode": {
    "name": "ipython",
    "version": 3
   },
   "file_extension": ".py",
   "mimetype": "text/x-python",
   "name": "python",
   "nbconvert_exporter": "python",
   "pygments_lexer": "ipython3",
   "version": "3.11.8"
  }
 },
 "nbformat": 4,
 "nbformat_minor": 5
}
