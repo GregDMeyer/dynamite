{
 "cells": [
  {
   "cell_type": "markdown",
   "id": "94aa7b31-29f3-49f3-826a-be5c22ae6657",
   "metadata": {},
   "source": [
    "## Conclusion\n",
    "\n",
    "You have completed a tour of dynamite's features! Hopefully you will find it useful. \n",
    "\n",
    "Here are a few final things to explore:\n",
    "\n",
    " - While notebooks are a good sandbox for exploring, for serious computations dynamite is best used in a standalone Python script. This allows, for example, easy parallelization on clusters via MPI.\n",
    " - Speaking of clusters, dynamite is super easy to run, no setup required, on a cluster with Singularity (or another containerization application) installed. On a compute node, you can simply run the following:\n",
    "   - `singularity exec docker://gdmeyer/dynamite python your_script.py`\n",
    " - dynamite also supports GPU computations! Using the `gdmeyer/dynamite:latest-cuda` container, on a compute node with a GPU you can run\n",
    "   - `singularity exec --nv docker://gdmeyer/dynamite:latest-cuda python your_script.py`\n",
    "   - You may find it best to enable shell matrices, due to the limited RAM of most GPUs\n",
    " - For more information about running dynamite on clusters with Singularity, see [the documentation](https://dynamite.readthedocs.io/en/latest/containers.html#singularity-usage).\n",
    " \n",
    "As a reminder, dynamite's documentation is at [dynamite.readthedocs.io](https://dynamite.readthedocs.io/)."
   ]
  }
 ],
 "metadata": {
  "kernelspec": {
   "display_name": "Python 3 (ipykernel)",
   "language": "python",
   "name": "python3"
  },
  "language_info": {
   "codemirror_mode": {
    "name": "ipython",
    "version": 3
   },
   "file_extension": ".py",
   "mimetype": "text/x-python",
   "name": "python",
   "nbconvert_exporter": "python",
   "pygments_lexer": "ipython3",
   "version": "3.9.13"
  }
 },
 "nbformat": 4,
 "nbformat_minor": 5
}
