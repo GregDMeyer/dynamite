{
 "cells": [
  {
   "cell_type": "markdown",
   "id": "94aa7b31-29f3-49f3-826a-be5c22ae6657",
   "metadata": {},
   "source": [
    "## Conclusion\n",
    "\n",
    "You have completed a tour of dynamite's features! Hopefully you will find it useful. \n",
    "\n",
    "You may be interested in now checking out dynamite's [example scripts](https://github.com/GregDMeyer/dynamite/tree/master/examples/scripts), which demonstrate useful code patterns for working with dynamite in practice, and can also serve as starting points for research projects. Try running one of the scripts in parallel with MPI, or on a GPU!\n",
    " \n",
    "As a reminder, dynamite's documentation is at [dynamite.readthedocs.io](https://dynamite.readthedocs.io/). Have fun!"
   ]
  }
 ],
 "metadata": {
  "kernelspec": {
   "display_name": "Python 3 (ipykernel)",
   "language": "python",
   "name": "python3"
  },
  "language_info": {
   "codemirror_mode": {
    "name": "ipython",
    "version": 3
   },
   "file_extension": ".py",
   "mimetype": "text/x-python",
   "name": "python",
   "nbconvert_exporter": "python",
   "pygments_lexer": "ipython3",
   "version": "3.11.8"
  }
 },
 "nbformat": 4,
 "nbformat_minor": 5
}
