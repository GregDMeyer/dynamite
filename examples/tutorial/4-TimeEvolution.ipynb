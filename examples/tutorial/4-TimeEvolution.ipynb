{
 "cells": [
  {
   "cell_type": "markdown",
   "id": "8fb51ff1-4bd1-41ae-a3cd-f84457eb3cb7",
   "metadata": {},
   "source": [
    "## Time evolution\n",
    "\n",
    "Another main use of dynamite is computing the time evolution of quantum states under a Hamiltonian. For an example, let's watch a state evolve under the Heisenberg model:\n",
    "\n",
    "$$H = \\sum_{i,j} \\vec{S}_i \\cdot \\vec{S}_j$$\n",
    "\n",
    "where $\\vec{S} = (S^x, S^y, S^z)$.\n",
    "\n",
    "**Important**: Don't forget that the spin operators have an extra factor of 1/2 relative to the Pauli matrices!"
   ]
  },
  {
   "cell_type": "code",
   "execution_count": null,
   "id": "526a51d5-8cc5-43a7-88ac-77cce03d55e5",
   "metadata": {
    "tags": []
   },
   "outputs": [],
   "source": [
    "from dynamite import config\n",
    "config.L = 14"
   ]
  },
  {
   "cell_type": "code",
   "execution_count": null,
   "id": "54ea5bed-544e-4a19-9c2e-92c719316ca4",
   "metadata": {
    "tags": []
   },
   "outputs": [],
   "source": [
    "from dynamite.operators import sigmax, sigmay, sigmaz, index_sum\n",
    "\n",
    "def heisenberg():\n",
    "    paulis = [sigmax, sigmay, sigmaz]\n",
    "    \n",
    "    # 0.25 to account for the factors of 1/2 in each spin operator!\n",
    "    return index_sum(sum(0.25*p(0)*p(1) for p in paulis))\n",
    "\n",
    "H = heisenberg()\n",
    "H"
   ]
  },
  {
   "cell_type": "markdown",
   "id": "1f8e17f3-fc4c-466d-bcb8-037c0a397768",
   "metadata": {},
   "source": [
    "To perform an evolution, we need to start with a state. Let's initialize a state with one domain wall:"
   ]
  },
  {
   "cell_type": "code",
   "execution_count": null,
   "id": "5d190fe0-667a-435f-96a3-7e671fbe8cf0",
   "metadata": {
    "tags": []
   },
   "outputs": [],
   "source": [
    "from dynamite.states import State\n",
    "\n",
    "half = config.L//2\n",
    "initial_state = State(state='U'*half + 'D'*half)"
   ]
  },
  {
   "cell_type": "markdown",
   "id": "b1e4f9f1-255a-4371-82d3-06b020c8508d",
   "metadata": {},
   "source": [
    "The $S^z$ expectation values across the chain:"
   ]
  },
  {
   "cell_type": "code",
   "execution_count": null,
   "id": "f91bf135-f6b5-4ca3-a92a-959c8875bfc4",
   "metadata": {
    "tags": []
   },
   "outputs": [],
   "source": [
    "from matplotlib import pyplot as plt\n",
    "\n",
    "# for performance reasons, its a good idea to pre-compute the Sz operators\n",
    "# if we're going to be re-using them a lot\n",
    "Sz_ops = [0.5*sigmaz(i) for i in range(config.L)]\n",
    "\n",
    "def plot_sigma_z(state):\n",
    "    z_vals = [Szi.expectation(state) for Szi in Sz_ops]\n",
    "    plt.plot(z_vals)\n",
    "    plt.xlabel('Spin index')\n",
    "    plt.ylabel('Z magnetization')\n",
    "    \n",
    "plot_sigma_z(initial_state)"
   ]
  },
  {
   "cell_type": "markdown",
   "id": "b1c530ab-619f-4f1d-89d6-ec66908048c8",
   "metadata": {},
   "source": [
    "Now let's evolve for a little bit of time, and see how the magnetization changes. The `.evolve()` function computes $e^{-iHt} | \\psi \\rangle$:"
   ]
  },
  {
   "cell_type": "code",
   "execution_count": null,
   "id": "0dd6b5de-c309-4a88-bc2c-a1fcab75113f",
   "metadata": {
    "tags": []
   },
   "outputs": [],
   "source": [
    "final_state = H.evolve(initial_state, t=3)\n",
    "plot_sigma_z(final_state)"
   ]
  },
  {
   "cell_type": "markdown",
   "id": "70ecc4b9-ddca-4ed9-b0a8-18d979658f3d",
   "metadata": {},
   "source": [
    "Beautiful---we see that as the evolution proceeds, the domain wall is relaxing. "
   ]
  },
  {
   "cell_type": "markdown",
   "id": "b75264ab-e385-4f8d-878f-70a59382777b",
   "metadata": {},
   "source": [
    "Generally, dynamite is used to track various quantities as time evolution proceeds. For example, let's watch the magnetization of each spoin evolve over time. The compute time it takes to perform a time evolution is roughly proportional to the evolution time, so if you are taking intermediate measurements it's most efficient to evolve in a series of small $\\Delta t$, starting where you left off in the previous step:"
   ]
  },
  {
   "cell_type": "code",
   "execution_count": null,
   "id": "d4d1e5e1-6849-4062-a9d1-59ff35844f1e",
   "metadata": {
    "tags": []
   },
   "outputs": [],
   "source": [
    "total_evolution_time = 10\n",
    "delta_t = 0.2\n",
    "\n",
    "n_time_steps = int(total_evolution_time/delta_t)\n",
    "\n",
    "times = [0]\n",
    "vals = [[Szi.expectation(initial_state) for Szi in Sz_ops]]\n",
    "\n",
    "result = initial_state.copy()  # pre-allocating the result vector improves performance\n",
    "for i in range(n_time_steps):\n",
    "    times.append(times[-1] + delta_t)\n",
    "    H.evolve(initial_state, t=delta_t, result=result)\n",
    "    vals.append([Szi.expectation(result) for Szi in Sz_ops])\n",
    "    \n",
    "    # swap initial state and result\n",
    "    # because the previous result becomes the next initial state\n",
    "    initial_state, result = result, initial_state\n",
    "    \n",
    "# it may take a few seconds to run..."
   ]
  },
  {
   "cell_type": "code",
   "execution_count": null,
   "id": "1a245bf2-9f47-4d41-b090-a658b864fcf0",
   "metadata": {
    "tags": []
   },
   "outputs": [],
   "source": [
    "# plot the trajectory of the magnetization for each spin\n",
    "for spin_vals in zip(*vals):\n",
    "    plt.plot(times, spin_vals)\n",
    "\n",
    "plt.xlabel('Time')\n",
    "plt.ylabel(r'Magnetization $\\langle S^Z_i \\rangle$')"
   ]
  },
  {
   "cell_type": "markdown",
   "id": "71d6615a-3e21-4b04-abe4-5f83eb7de38c",
   "metadata": {},
   "source": [
    "It's kind of beautiful! If you'd like, try similarly plotting the evolution of the half-chain entanglement entropy over time. You can compute the entanglement entropy of a state via the `State.entanglement_entropy` function (see the documentation [here](https://dynamite.readthedocs.io/en/latest/dynamite.states.html#dynamite.states.State.entanglement_entropy)).\n",
    "\n",
    "This kind of evolution can be easily adapted to piecewise time-dependent Hamiltonians, by just adjusting the Hamiltonian that performs the evolution. For example, try implementing a Floquet evolution: try adding to the Heisenberg model a z-field that flips polarity with every period of T=1. This is most easily achieved by building two Hamiltonians (for each piece of the volution) and switching back and forth which one you use for the evolution step."
   ]
  },
  {
   "cell_type": "code",
   "execution_count": null,
   "id": "ecf21f94-a074-43d6-b13a-d26acf53f778",
   "metadata": {},
   "outputs": [],
   "source": [
    "# Exercise: implement the Floquet evolution of a Heisenberg model with a Z-field that flips every 1 unit of time.\n"
   ]
  },
  {
   "cell_type": "markdown",
   "id": "52dfb00a-de2f-4063-988e-180c7cc24044",
   "metadata": {},
   "source": [
    "## Up next\n",
    "\n",
    "[Continue to notebook 5](5-Subspaces.ipynb) to learn how to work in smaller subspaces to make computations more efficient."
   ]
  }
 ],
 "metadata": {
  "kernelspec": {
   "display_name": "Python 3 (ipykernel)",
   "language": "python",
   "name": "python3"
  },
  "language_info": {
   "codemirror_mode": {
    "name": "ipython",
    "version": 3
   },
   "file_extension": ".py",
   "mimetype": "text/x-python",
   "name": "python",
   "nbconvert_exporter": "python",
   "pygments_lexer": "ipython3",
   "version": "3.11.8"
  }
 },
 "nbformat": 4,
 "nbformat_minor": 5
}
