{
 "cells": [
  {
   "cell_type": "markdown",
   "id": "95e18faf-1b8a-4f02-898b-1da93c8035fe",
   "metadata": {},
   "source": [
    "## States\n",
    "\n",
    "In the previous notebook, we learned how to create quantum operators. In this brief notebook we will learn how to create and manipulate states!\n",
    "\n",
    "In dynamite, states are represented by the State class:"
   ]
  },
  {
   "cell_type": "code",
   "execution_count": null,
   "id": "83686067-355a-44d3-8702-74aecfc77cd7",
   "metadata": {},
   "outputs": [],
   "source": [
    "from dynamite.states import State"
   ]
  },
  {
   "cell_type": "markdown",
   "id": "87651ef9-8927-4f39-95d2-3254a0623d57",
   "metadata": {},
   "source": [
    "When we create a state, there are two ways to initialize it: as a product state, or as a random state.\n",
    "\n",
    "To specify a product state, we can simply use a string of the letters `U` and `D` (or `0` and `1`, see below) specifying whether each spin should be up or down:"
   ]
  },
  {
   "cell_type": "code",
   "execution_count": null,
   "id": "ac12aa49-b67e-4a7c-9f61-bb36b70d4690",
   "metadata": {},
   "outputs": [],
   "source": [
    "# work with a spin chain of size 6 for this whole example\n",
    "from dynamite import config\n",
    "config.L = 6"
   ]
  },
  {
   "cell_type": "code",
   "execution_count": null,
   "id": "2144c943-45f0-4b9b-b4f4-f04ea7866617",
   "metadata": {},
   "outputs": [],
   "source": [
    "s = State(state='UUUUUU')  # all up spins\n",
    "s"
   ]
  },
  {
   "cell_type": "markdown",
   "id": "a82ea862-1126-4d71-9c53-bd0fb378e1b4",
   "metadata": {},
   "source": [
    "Now we can look at, for example, the expectation value $\\langle\\psi | \\sigma^z_0 | \\psi \\rangle$ for this state:"
   ]
  },
  {
   "cell_type": "code",
   "execution_count": null,
   "id": "c073971f-ca5b-4291-9353-156fa1fafbd8",
   "metadata": {},
   "outputs": [],
   "source": [
    "from dynamite.operators import sigmaz"
   ]
  },
  {
   "cell_type": "code",
   "execution_count": null,
   "id": "7d2adcb9-ff5d-4e45-8c62-d0f1ff8588e6",
   "metadata": {},
   "outputs": [],
   "source": [
    "s.dot(sigmaz(0)*s)  # the complex conjugate of the bra state is implied when calling .dot()"
   ]
  },
  {
   "cell_type": "markdown",
   "id": "841820bb-d9a0-484f-9d2e-c5015809f793",
   "metadata": {},
   "source": [
    "We get a value of +1, as we expect. (If you haven't worked with Python complex numbers, `j` is the imaginary unit). \n",
    "\n",
    "If we flip the first spin we get -1:"
   ]
  },
  {
   "cell_type": "code",
   "execution_count": null,
   "id": "f183ec3e-dfa2-4ffb-84ef-e0609ebf1d3b",
   "metadata": {},
   "outputs": [],
   "source": [
    "s = State(state='DUUUUU')\n",
    "s.dot(sigmaz(0)*s)"
   ]
  },
  {
   "cell_type": "markdown",
   "id": "5dff928b-b6e6-4c9e-877a-b345979d3b57",
   "metadata": {},
   "source": [
    "We can also create more complicated states by summing. For example, to build a GHZ state:"
   ]
  },
  {
   "cell_type": "code",
   "execution_count": null,
   "id": "c1b1cd19-10de-471d-a274-de88f24d9ea0",
   "metadata": {},
   "outputs": [],
   "source": [
    "ghz = State(state='UUUUUU')\n",
    "ghz += State(state='DDDDDD')\n",
    "ghz.normalize()\n",
    "\n",
    "ghz"
   ]
  },
  {
   "cell_type": "markdown",
   "id": "4c2bf870-8903-443c-93c2-9c522033b4a4",
   "metadata": {},
   "source": [
    "or a W state:"
   ]
  },
  {
   "cell_type": "code",
   "execution_count": null,
   "id": "bbed281d-c5c7-4dac-8590-bfbdb76ac0a7",
   "metadata": {},
   "outputs": [],
   "source": [
    "w = State(state='100000')\n",
    "for i in range(1, w.L):\n",
    "    state_str = '0'*i + '1' + '0'*(w.L - i - 1)\n",
    "    w += State(state=state_str)\n",
    "w.normalize()\n",
    "\n",
    "w"
   ]
  },
  {
   "cell_type": "markdown",
   "id": "7ef9eb6d-5ea6-4d27-80a7-a6357e15db9c",
   "metadata": {},
   "source": [
    "Note that we can use `'0'` and `'1'` in addition to `'U'` and `'D'` to specify the state.\n",
    "\n",
    "Also please note that this is useful for building states with a few nonzero entries, but is extremely inefficient if you want to set the whole state vector. For that purpose, there is function `set_all_by_function`, which takes a user-supplied function, evaluates it for every basis state (represented as an integer), and sets the respective vector elements to the return values of the function. Here is an example, in which we desire a uniform superposition but with a phase that depends on the basis state:"
   ]
  },
  {
   "cell_type": "code",
   "execution_count": null,
   "id": "594e5b05-2cbc-4b07-b318-c026fa7dd026",
   "metadata": {},
   "outputs": [],
   "source": [
    "dim = 2**config.L\n",
    "\n",
    "import numpy as np\n",
    "def compute_vec_element(state):\n",
    "    return np.exp(2*np.pi*1j*(state/dim))\n",
    "                  \n",
    "s = State()\n",
    "s.set_all_by_function(compute_vec_element)\n",
    "s"
   ]
  },
  {
   "cell_type": "markdown",
   "id": "eabe2398-1ad7-4885-8dc2-af7aaff4f843",
   "metadata": {},
   "source": [
    "Note that our function `compute_vec_element` is written in such a way that it can be applied to not just a single value for `state`, but also a NumPy array of values (in which case it will return a NumPy array of the results). This is not mandatory, but can improve the performance significantly if we pass `vectorize=True` to `set_all_by_function`:"
   ]
  },
  {
   "cell_type": "code",
   "execution_count": null,
   "id": "e46862f1-6ccc-4797-8ca1-13fe14a6d312",
   "metadata": {},
   "outputs": [],
   "source": [
    "s.set_all_by_function(compute_vec_element, vectorize=True)  # yields the same answer, but is faster\n",
    "s"
   ]
  },
  {
   "cell_type": "markdown",
   "id": "7575fc05-a086-43bb-b53a-40ef82cd01a9",
   "metadata": {},
   "source": [
    "Finally we can create a random state vector (a norm-1 vector pointing in a uniformily random direction in the Hilbert space):"
   ]
  },
  {
   "cell_type": "code",
   "execution_count": null,
   "id": "77db285e-dc98-4666-af41-443de6a56b6d",
   "metadata": {},
   "outputs": [],
   "source": [
    "s = State(state='random')\n",
    "s"
   ]
  },
  {
   "cell_type": "code",
   "execution_count": null,
   "id": "338f79ff-5007-4cb4-bf27-9737788acb37",
   "metadata": {},
   "outputs": [],
   "source": [
    "s.norm()"
   ]
  },
  {
   "cell_type": "markdown",
   "id": "8a2a871e-9812-44b1-ac72-c639f35c801d",
   "metadata": {},
   "source": [
    "It has a correspondingly random expectation value (but with zero complex part, since $\\sigma^z$ is Hermitian):"
   ]
  },
  {
   "cell_type": "code",
   "execution_count": null,
   "id": "92957c5d-0635-4d29-b583-a64c95a67b6a",
   "metadata": {},
   "outputs": [],
   "source": [
    "s.dot(sigmaz(0)*s)"
   ]
  },
  {
   "cell_type": "markdown",
   "id": "0d4bcede-ebbc-4b16-948f-5d178b0e30c0",
   "metadata": {},
   "source": [
    "## Up next\n",
    "\n",
    "[Continue to notebook 3](3-Eigensolving.ipynb) to learn how to solve for eigenvalues and eigenstates."
   ]
  }
 ],
 "metadata": {
  "kernelspec": {
   "display_name": "Python 3 (ipykernel)",
   "language": "python",
   "name": "python3"
  },
  "language_info": {
   "codemirror_mode": {
    "name": "ipython",
    "version": 3
   },
   "file_extension": ".py",
   "mimetype": "text/x-python",
   "name": "python",
   "nbconvert_exporter": "python",
   "pygments_lexer": "ipython3",
   "version": "3.9.13"
  }
 },
 "nbformat": 4,
 "nbformat_minor": 5
}
