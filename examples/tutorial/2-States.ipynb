{
 "cells": [
  {
   "cell_type": "markdown",
   "id": "95e18faf-1b8a-4f02-898b-1da93c8035fe",
   "metadata": {},
   "source": [
    "## States\n",
    "\n",
    "In the previous notebook, we learned how to create quantum operators. In this brief notebook we will learn how to create and manipulate states!\n",
    "\n",
    "In dynamite, states are represented by the State class:"
   ]
  },
  {
   "cell_type": "code",
   "execution_count": null,
   "id": "83686067-355a-44d3-8702-74aecfc77cd7",
   "metadata": {},
   "outputs": [],
   "source": [
    "from dynamite.states import State"
   ]
  },
  {
   "cell_type": "markdown",
   "id": "87651ef9-8927-4f39-95d2-3254a0623d57",
   "metadata": {},
   "source": [
    "When we create a state, there are two ways to initialize it: as a product state, or as a random state.\n",
    "\n",
    "To specify a product state, we can simply use a string of the letters 'U' and 'D' specifying whether each spin should be up or down:"
   ]
  },
  {
   "cell_type": "code",
   "execution_count": null,
   "id": "ac12aa49-b67e-4a7c-9f61-bb36b70d4690",
   "metadata": {},
   "outputs": [],
   "source": [
    "# work with a spin chain of size 6 for this whole example\n",
    "from dynamite import config\n",
    "config.L = 6"
   ]
  },
  {
   "cell_type": "code",
   "execution_count": null,
   "id": "2144c943-45f0-4b9b-b4f4-f04ea7866617",
   "metadata": {},
   "outputs": [],
   "source": [
    "s = State(state='UUUUUU')  # all up spins"
   ]
  },
  {
   "cell_type": "markdown",
   "id": "a82ea862-1126-4d71-9c53-bd0fb378e1b4",
   "metadata": {},
   "source": [
    "Now we can look at, for example, the expectation value $\\langle\\psi | \\sigma^z_0 | \\psi \\rangle$ for this state:"
   ]
  },
  {
   "cell_type": "code",
   "execution_count": null,
   "id": "c073971f-ca5b-4291-9353-156fa1fafbd8",
   "metadata": {},
   "outputs": [],
   "source": [
    "from dynamite.operators import sigmaz"
   ]
  },
  {
   "cell_type": "code",
   "execution_count": null,
   "id": "7d2adcb9-ff5d-4e45-8c62-d0f1ff8588e6",
   "metadata": {},
   "outputs": [],
   "source": [
    "s.dot(sigmaz(0)*s)  # the complex conjugate of the bra state is implied when calling .dot()"
   ]
  },
  {
   "cell_type": "markdown",
   "id": "841820bb-d9a0-484f-9d2e-c5015809f793",
   "metadata": {},
   "source": [
    "We get a value of +1, as we expect. (If you haven't worked with Python complex numbers, `j` is the imaginary unit). \n",
    "\n",
    "If we flip the first spin we get -1:"
   ]
  },
  {
   "cell_type": "code",
   "execution_count": null,
   "id": "f183ec3e-dfa2-4ffb-84ef-e0609ebf1d3b",
   "metadata": {},
   "outputs": [],
   "source": [
    "s = State(state='DUUUUU')\n",
    "s.dot(sigmaz(0)*s)"
   ]
  },
  {
   "cell_type": "markdown",
   "id": "7575fc05-a086-43bb-b53a-40ef82cd01a9",
   "metadata": {},
   "source": [
    "Finally we can create a random state vector (a norm-1 vector pointing in a uniformily random direction in the Hilbert space):"
   ]
  },
  {
   "cell_type": "code",
   "execution_count": null,
   "id": "77db285e-dc98-4666-af41-443de6a56b6d",
   "metadata": {},
   "outputs": [],
   "source": [
    "s = State(state='random')"
   ]
  },
  {
   "cell_type": "markdown",
   "id": "8a2a871e-9812-44b1-ac72-c639f35c801d",
   "metadata": {},
   "source": [
    "It has a correspondingly random expectation value (but with zero complex part, since $\\sigma^z$ is Hermitian):"
   ]
  },
  {
   "cell_type": "code",
   "execution_count": null,
   "id": "92957c5d-0635-4d29-b583-a64c95a67b6a",
   "metadata": {},
   "outputs": [],
   "source": [
    "s.dot(sigmaz(0)*s)"
   ]
  },
  {
   "cell_type": "markdown",
   "id": "0d4bcede-ebbc-4b16-948f-5d178b0e30c0",
   "metadata": {},
   "source": [
    "## Up next\n",
    "\n",
    "[Continue to notebook 3](3-Eigensolving.ipynb) to learn how to solve for eigenvalues and eigenstates."
   ]
  }
 ],
 "metadata": {
  "kernelspec": {
   "display_name": "Python 3 (ipykernel)",
   "language": "python",
   "name": "python3"
  },
  "language_info": {
   "codemirror_mode": {
    "name": "ipython",
    "version": 3
   },
   "file_extension": ".py",
   "mimetype": "text/x-python",
   "name": "python",
   "nbconvert_exporter": "python",
   "pygments_lexer": "ipython3",
   "version": "3.9.13"
  }
 },
 "nbformat": 4,
 "nbformat_minor": 5
}
