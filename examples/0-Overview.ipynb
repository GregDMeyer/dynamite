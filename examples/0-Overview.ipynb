{
 "cells": [
  {
   "cell_type": "markdown",
   "metadata": {},
   "source": [
    "## Overview of `dynamite`: implementing a long-range Ising model"
   ]
  },
  {
   "cell_type": "markdown",
   "metadata": {},
   "source": [
    "Let's implement a  power law long-range ZZ interaction with open boundary conditions and some uniform field. Our Hamiltonian is\n",
    "\n",
    "$$H = \\sum_{i,j} \\frac{J}{\\left| i-j \\right| ^ \\alpha} \\sigma^z_i \\sigma^z_j + \\vec{h} \\cdot \\sum_i \\vec{\\sigma}_i$$\n",
    "\n",
    "where $J$ is the interaction strength, $\\alpha$ is the power-law decay with distance between sites, and the vector $\\vec{h}$ is the static, uniform field."
   ]
  },
  {
   "cell_type": "markdown",
   "metadata": {},
   "source": [
    "First we import the things we will need:"
   ]
  },
  {
   "cell_type": "code",
   "execution_count": 1,
   "metadata": {},
   "outputs": [],
   "source": [
    "from dynamite import config\n",
    "from dynamite.operators import sigmax, sigmay, sigmaz, op_sum, index_sum"
   ]
  },
  {
   "cell_type": "markdown",
   "metadata": {},
   "source": [
    "Let's set the spin chain length to 8 globally for the purposes of this example. However, note that you aren't required to set the spin chain length before you start building your operator!"
   ]
  },
  {
   "cell_type": "code",
   "execution_count": 2,
   "metadata": {},
   "outputs": [],
   "source": [
    "config.L = 8"
   ]
  },
  {
   "cell_type": "markdown",
   "metadata": {},
   "source": [
    "Now we start building up our Hamiltonian. Here is a ZZ interaction between site 0 and site 2:"
   ]
  },
  {
   "cell_type": "code",
   "execution_count": 3,
   "metadata": {},
   "outputs": [
    {
     "data": {
      "text/latex": [
       "$\\sigma^z_{0}\\sigma^z_{2}$"
      ],
      "text/plain": [
       "dynamite.Operator on 8 spins:\n",
       "σz[0]*σz[2]"
      ]
     },
     "execution_count": 3,
     "metadata": {},
     "output_type": "execute_result"
    }
   ],
   "source": [
    "sigmaz(0)*sigmaz(2)"
   ]
  },
  {
   "cell_type": "markdown",
   "metadata": {},
   "source": [
    "Let's take such an interaction and translate it along the spin chain. Note that the sum is to $i=5$ such that the operator has support on all spins of our length 8 chain (which is indexed from 0)."
   ]
  },
  {
   "cell_type": "code",
   "execution_count": 4,
   "metadata": {},
   "outputs": [
    {
     "data": {
      "text/latex": [
       "$\\sum_{i=0}^{5}\\sigma^z_{i}\\sigma^z_{i+2}$"
      ],
      "text/plain": [
       "dynamite.Operator on 8 spins:\n",
       "index_sum(σz[0]*σz[2], sites 0 - 5)"
      ]
     },
     "execution_count": 4,
     "metadata": {},
     "output_type": "execute_result"
    }
   ],
   "source": [
    "index_sum(sigmaz(0)*sigmaz(2))"
   ]
  },
  {
   "cell_type": "markdown",
   "metadata": {},
   "source": [
    "Sometimes it's more informative to have a term-by-term look at the operator:"
   ]
  },
  {
   "cell_type": "code",
   "execution_count": 5,
   "metadata": {},
   "outputs": [
    {
     "name": "stdout",
     "output_type": "stream",
     "text": [
      "   coeff. | operator \n",
      "=====================\n",
      "    1.000 | Z-Z-----\n",
      "    1.000 | -Z-Z----\n",
      "    1.000 | --Z-Z---\n",
      "    1.000 | ---Z-Z--\n",
      "    1.000 | ----Z-Z-\n",
      "    1.000 | -----Z-Z\n"
     ]
    }
   ],
   "source": [
    "oper = index_sum(sigmaz(0)*sigmaz(2))\n",
    "print(oper.table())"
   ]
  },
  {
   "cell_type": "markdown",
   "metadata": {},
   "source": [
    "Looks good! Let's create our power law. Here we are using `op_sum`, which takes the sum of the operators in the iterable passed to it. In our case, we will use a python generator as the argument."
   ]
  },
  {
   "cell_type": "code",
   "execution_count": 6,
   "metadata": {},
   "outputs": [],
   "source": [
    "alpha = 1.15\n",
    "long_range_zz = op_sum(1/(d**alpha) * index_sum(sigmaz(0)*sigmaz(d)) for d in range(1,8))"
   ]
  },
  {
   "cell_type": "markdown",
   "metadata": {},
   "source": [
    "Now what does the interaction look like?"
   ]
  },
  {
   "cell_type": "code",
   "execution_count": 7,
   "metadata": {},
   "outputs": [
    {
     "data": {
      "text/latex": [
       "$1.000*\\left[\\sum_{i=0}^{6}\\sigma^z_{i}\\sigma^z_{i+1}\\right] + 0.451*\\left[\\sum_{i=0}^{5}\\sigma^z_{i}\\sigma^z_{i+2}\\right] + 0.283*\\left[\\sum_{i=0}^{4}\\sigma^z_{i}\\sigma^z_{i+3}\\right] + \\cdots$"
      ],
      "text/plain": [
       "dynamite.Operator on 8 spins:\n",
       "1.000*[index_sum(σz[0]*σz[1], sites 0 - 6)] + 0.451*[index_sum(σz[0]*σz[2], sites 0 - 5)] + 0.283*[index_sum(σz[0]*σz[3], sites 0 - 4)] + ..."
      ]
     },
     "execution_count": 7,
     "metadata": {},
     "output_type": "execute_result"
    }
   ],
   "source": [
    "long_range_zz"
   ]
  },
  {
   "cell_type": "markdown",
   "metadata": {},
   "source": [
    "Nice! now that we have our long-range power law interaction, we just need the static, uniform field."
   ]
  },
  {
   "cell_type": "code",
   "execution_count": 8,
   "metadata": {},
   "outputs": [
    {
     "data": {
      "text/latex": [
       "$0.500*\\left[\\sum_{i=0}^{7}\\sigma^x_{i}\\right] + 0.200*\\left[\\sum_{i=0}^{7}\\sigma^y_{i}\\right] + 0.100*\\left[\\sum_{i=0}^{7}\\sigma^z_{i}\\right]$"
      ],
      "text/plain": [
       "dynamite.Operator on 8 spins:\n",
       "0.500*[index_sum(σx[0], sites 0 - 7)] + 0.200*[index_sum(σy[0], sites 0 - 7)] + 0.100*[index_sum(σz[0], sites 0 - 7)]"
      ]
     },
     "execution_count": 8,
     "metadata": {},
     "output_type": "execute_result"
    }
   ],
   "source": [
    "# the x, y, z components of the field\n",
    "h = [0.5, 0.2, 0.1]\n",
    "sigma = [sigmax, sigmay, sigmaz]\n",
    "\n",
    "static_field = op_sum(hi*index_sum(sigmai()) for hi,sigmai in zip(h,sigma))\n",
    "static_field"
   ]
  },
  {
   "cell_type": "markdown",
   "metadata": {},
   "source": [
    "Then our Hamiltonian is just the sum of these two:"
   ]
  },
  {
   "cell_type": "code",
   "execution_count": 9,
   "metadata": {},
   "outputs": [],
   "source": [
    "H = long_range_zz + static_field"
   ]
  },
  {
   "cell_type": "markdown",
   "metadata": {},
   "source": [
    "With that, we can do whatever computations we want! For example, solving for the ground state energy:"
   ]
  },
  {
   "cell_type": "code",
   "execution_count": 10,
   "metadata": {},
   "outputs": [
    {
     "name": "stdout",
     "output_type": "stream",
     "text": [
      "-6.435647428300428\n"
     ]
    }
   ],
   "source": [
    "energies = H.eigsolve()\n",
    "print(energies[0])"
   ]
  },
  {
   "cell_type": "markdown",
   "metadata": {},
   "source": [
    "or evolve a product state for some time:"
   ]
  },
  {
   "cell_type": "code",
   "execution_count": 11,
   "metadata": {},
   "outputs": [
    {
     "name": "stdout",
     "output_type": "stream",
     "text": [
      "overlap: 0.4076078507915722\n"
     ]
    }
   ],
   "source": [
    "from dynamite.states import State\n",
    "\n",
    "# specify the initial state as a product state with one domain wall\n",
    "initial_state = State(state='UUUUDDDD')\n",
    "\n",
    "result = H.evolve(initial_state, t=5.0)\n",
    "\n",
    "# compute overlap with initial state\n",
    "overlap = abs(initial_state.dot(result))\n",
    "print('overlap:', overlap)"
   ]
  },
  {
   "cell_type": "markdown",
   "metadata": {},
   "source": [
    "or do imaginary time evolution from a random state to find a thermal state of some $\\beta$:\n",
    "\n",
    "$$\\left| \\psi_\\beta \\right> = e^{-\\beta H} \\left| \\psi_r \\right> = e^{-i (-i t_\\beta) H} \\left| \\psi_r \\right> $$\n",
    "\n",
    "where $\\left| \\psi_r \\right>$ is a random state."
   ]
  },
  {
   "cell_type": "code",
   "execution_count": 12,
   "metadata": {},
   "outputs": [
    {
     "name": "stdout",
     "output_type": "stream",
     "text": [
      "E random: -0.12540121634250848\n",
      "E thermal: -6.161228980108254\n"
     ]
    }
   ],
   "source": [
    "beta = 1.5\n",
    "imag_time = -1j*beta\n",
    "\n",
    "random_state = State(state='random')\n",
    "thermal_state = H.evolve(random_state, t=imag_time)\n",
    "thermal_state.normalize()\n",
    "\n",
    "# print the expectation values of the energy for the two states\n",
    "random_state_energy = random_state.dot(H*random_state).real\n",
    "thermal_state_energy = thermal_state.dot(H*thermal_state).real\n",
    "\n",
    "print('E random:', random_state_energy)\n",
    "print('E thermal:', thermal_state_energy)"
   ]
  },
  {
   "cell_type": "markdown",
   "metadata": {},
   "source": [
    "As expected, the \"cold\" thermal state has lower energy."
   ]
  }
 ],
 "metadata": {
  "kernelspec": {
   "display_name": "dnm-opt",
   "language": "python",
   "name": "dnm-opt"
  },
  "language_info": {
   "codemirror_mode": {
    "name": "ipython",
    "version": 3
   },
   "file_extension": ".py",
   "mimetype": "text/x-python",
   "name": "python",
   "nbconvert_exporter": "python",
   "pygments_lexer": "ipython3",
   "version": "3.6.6"
  }
 },
 "nbformat": 4,
 "nbformat_minor": 2
}
