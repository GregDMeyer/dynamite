{
 "cells": [
  {
   "cell_type": "markdown",
   "metadata": {},
   "source": [
    "# Using subspaces"
   ]
  },
  {
   "cell_type": "markdown",
   "metadata": {},
   "source": [
    "Often times, we encounter operators that have some conservation law. `dynamite` can take advantage of conservation laws in the $\\sigma_z$ product state basis by working in a restricted subspace.\n",
    "\n",
    "For this demonstration, we'll use the following long-range XX+Z model:"
   ]
  },
  {
   "cell_type": "code",
   "execution_count": 1,
   "metadata": {},
   "outputs": [
    {
     "data": {
      "text/latex": [
       "$\\sum_{i=0}^{18}\\sigma^x_{i}\\sigma^x_{i+1} + \\sum_{i=0}^{17}\\sigma^x_{i}\\sigma^x_{i+2} + \\sum_{i=0}^{16}\\sigma^x_{i}\\sigma^x_{i+3} + \\cdots + 0.500*\\left[\\sum_{i=0}^{19}\\sigma^z_{i}\\right]$"
      ],
      "text/plain": [
       "dynamite.Operator on 20 spins:\n",
       "index_sum(σx[0]*σx[1], sites 0 - 18) + index_sum(σx[0]*σx[2], sites 0 - 17) + index_sum(σx[0]*σx[3], sites 0 - 16) + ... + 0.500*[index_sum(σz[0], sites 0 - 19)]"
      ]
     },
     "execution_count": 1,
     "metadata": {},
     "output_type": "execute_result"
    }
   ],
   "source": [
    "from dynamite.operators import sigmax, sigmaz, index_sum, op_sum\n",
    "\n",
    "# the None default argument will be important later\n",
    "def build_hamiltonian(L):\n",
    "    interaction = op_sum(index_sum(sigmax(0)*sigmax(i), size=L) for i in range(1,L))\n",
    "    uniform_field = 0.5*index_sum(sigmaz(), size=L)\n",
    "    return interaction + uniform_field\n",
    "\n",
    "# look at an example\n",
    "build_hamiltonian(20)"
   ]
  },
  {
   "cell_type": "markdown",
   "metadata": {},
   "source": [
    "If we look at the nonzero structure of the matrix, it's not at all clear that it's block diagonal:"
   ]
  },
  {
   "cell_type": "code",
   "execution_count": 2,
   "metadata": {},
   "outputs": [
    {
     "data": {
      "image/png": "[encoded data removed]",
      "text/plain": [
       "<Figure size 432x288 with 1 Axes>"
      ]
     },
     "metadata": {
      "needs_background": "light"
     },
     "output_type": "display_data"
    }
   ],
   "source": [
    "%matplotlib inline\n",
    "build_hamiltonian(8).spy()"
   ]
  },
  {
   "cell_type": "markdown",
   "metadata": {},
   "source": [
    "This is a graphical representation of the matrix, where each black dot represents a nonzero element.\n",
    "\n",
    "It turns out it is block-diagonal, we just need to reorder the rows. In fact, we can see by inspection of the Hamiltonian's definition that the X terms are always two-body, meaning that parity is conserved in the Z product state basis. We can easily apply this subspace in dynamite:"
   ]
  },
  {
   "cell_type": "code",
   "execution_count": 3,
   "metadata": {},
   "outputs": [
    {
     "name": "stdout",
     "output_type": "stream",
     "text": [
      "full space dimension:      (1048576, 1048576)\n",
      "parity subspace dimension: (524288, 524288)\n"
     ]
    }
   ],
   "source": [
    "H = build_hamiltonian(20)\n",
    "\n",
    "print('full space dimension:     ', H.dim)\n",
    "\n",
    "from dynamite.subspaces import Parity\n",
    "H.subspace = Parity('even')\n",
    "\n",
    "print('parity subspace dimension:', H.dim)"
   ]
  },
  {
   "cell_type": "markdown",
   "metadata": {},
   "source": [
    "As expected, the dimension was cut in half! The same subspace can be applied to states, and even globally:"
   ]
  },
  {
   "cell_type": "code",
   "execution_count": 4,
   "metadata": {},
   "outputs": [
    {
     "name": "stdout",
     "output_type": "stream",
     "text": [
      "vector length: 524288\n"
     ]
    }
   ],
   "source": [
    "from dynamite.states import State\n",
    "\n",
    "ket = State(L=20, subspace=Parity('even'))\n",
    "print('vector length:', ket.vec.size)"
   ]
  },
  {
   "cell_type": "markdown",
   "metadata": {},
   "source": [
    "Let's set everything globally so we don't have to keep writing lengths and subspaces everywhere."
   ]
  },
  {
   "cell_type": "code",
   "execution_count": 5,
   "metadata": {},
   "outputs": [],
   "source": [
    "from dynamite import config\n",
    "config.L = 20\n",
    "config.subspace = Parity('even')"
   ]
  },
  {
   "cell_type": "code",
   "execution_count": 6,
   "metadata": {},
   "outputs": [
    {
     "name": "stdout",
     "output_type": "stream",
     "text": [
      "H size: 20\n",
      "H subspace: <dynamite.subspaces.Parity object at 0x7fb5111b8e48>\n",
      "ket subspace: <dynamite.subspaces.Parity object at 0x7fb5111b8e48>\n"
     ]
    }
   ],
   "source": [
    "# now we never have to specify the subspace! and we only need to give\n",
    "# build_hamiltonian the value of L so it knows the longest long-range interaction\n",
    "H = build_hamiltonian(config.L)\n",
    "ket = State()\n",
    "print('H size:', H.L)\n",
    "print('H subspace:', H.subspace)\n",
    "print('ket subspace:', ket.subspace)"
   ]
  },
  {
   "cell_type": "markdown",
   "metadata": {},
   "source": [
    "### The Auto subspace"
   ]
  },
  {
   "cell_type": "markdown",
   "metadata": {},
   "source": [
    "In some cases, it might not be clear if the Hamiltonian is block diagonal. In other cases, the subspace might just might be something that is not built in to `dynamite`. Conservation of total magnetization is a good example. Let's take the XXYY model:"
   ]
  },
  {
   "cell_type": "code",
   "execution_count": 7,
   "metadata": {},
   "outputs": [
    {
     "data": {
      "text/latex": [
       "$\\sum_{i=0}^{18}\\left(\\sigma^x_{i}\\sigma^x_{i+1} + \\sigma^y_{i}\\sigma^y_{i+1}\\right)$"
      ],
      "text/plain": [
       "dynamite.Operator on 20 spins:\n",
       "index_sum(σx[0]*σx[1] + σy[0]*σy[1], sites 0 - 18)"
      ]
     },
     "execution_count": 7,
     "metadata": {},
     "output_type": "execute_result"
    }
   ],
   "source": [
    "from dynamite.operators import sigmay\n",
    "\n",
    "def build_XXYY(L=None):\n",
    "    return index_sum(sigmax(0)*sigmax(1) + sigmay(0)*sigmay(1), size=L)\n",
    "\n",
    "# our operator size is still set from config\n",
    "build_XXYY()"
   ]
  },
  {
   "cell_type": "code",
   "execution_count": 8,
   "metadata": {},
   "outputs": [
    {
     "data": {
      "image/png": "[encoded data removed]",
      "text/plain": [
       "<Figure size 432x288 with 1 Axes>"
      ]
     },
     "metadata": {
      "needs_background": "light"
     },
     "output_type": "display_data"
    }
   ],
   "source": [
    "config.L = 8\n",
    "build_XXYY().spy()"
   ]
  },
  {
   "cell_type": "markdown",
   "metadata": {},
   "source": [
    "How can we take advantage of conservation of total magnetization? With the Auto subspace:"
   ]
  },
  {
   "cell_type": "code",
   "execution_count": 9,
   "metadata": {},
   "outputs": [
    {
     "data": {
      "image/png": "[encoded data removed]",
      "text/plain": [
       "<Figure size 432x288 with 1 Axes>"
      ]
     },
     "metadata": {
      "needs_background": "light"
     },
     "output_type": "display_data"
    }
   ],
   "source": [
    "from dynamite.subspaces import Auto\n",
    "H = build_XXYY()\n",
    "\n",
    "# we want the subspace conserved by Hamiltonian H, that contains \n",
    "# the state with four up spins followed by four down spins\n",
    "subspace = Auto(H, 'UUUUDDDD')\n",
    "\n",
    "H.subspace = subspace\n",
    "H.spy()"
   ]
  },
  {
   "cell_type": "markdown",
   "metadata": {},
   "source": [
    "As expected, the dimension has been reduced significantly! In fact, it has been reduced to 8 choose 4, which is what we would expect for total spin conservation:"
   ]
  },
  {
   "cell_type": "code",
   "execution_count": 10,
   "metadata": {},
   "outputs": [
    {
     "name": "stdout",
     "output_type": "stream",
     "text": [
      "subspace dimension: 70\n",
      "8 choose 4:         70\n"
     ]
    }
   ],
   "source": [
    "from math import factorial\n",
    "def choose(n, k):\n",
    "    return factorial(n) // (factorial(k)*factorial(n-k))\n",
    "\n",
    "print('subspace dimension:', subspace.get_dimension())\n",
    "print('8 choose 4:        ', choose(8, 4))"
   ]
  },
  {
   "cell_type": "markdown",
   "metadata": {},
   "source": [
    "Or we can do a different total spin sector:"
   ]
  },
  {
   "cell_type": "code",
   "execution_count": 11,
   "metadata": {},
   "outputs": [
    {
     "name": "stdout",
     "output_type": "stream",
     "text": [
      "subspace dimension: 56\n",
      "8 choose 3:         56\n"
     ]
    }
   ],
   "source": [
    "# only three down spins\n",
    "subspace = Auto(H, 'UUUUUDDD')\n",
    "\n",
    "print('subspace dimension:', subspace.get_dimension())\n",
    "print('8 choose 3:        ', choose(8, 3))"
   ]
  },
  {
   "cell_type": "markdown",
   "metadata": {},
   "source": [
    "Under the hood, `dynamite` finds these subspaces by viewing the Hamiltonian as the adjacency matrix for a graph, and finding the connected component of that graph that includes the given state."
   ]
  }
 ],
 "metadata": {
  "kernelspec": {
   "display_name": "dnm-opt",
   "language": "python",
   "name": "dnm-opt"
  },
  "language_info": {
   "codemirror_mode": {
    "name": "ipython",
    "version": 3
   },
   "file_extension": ".py",
   "mimetype": "text/x-python",
   "name": "python",
   "nbconvert_exporter": "python",
   "pygments_lexer": "ipython3",
   "version": "3.6.6"
  }
 },
 "nbformat": 4,
 "nbformat_minor": 2
}
