{
 "cells": [
  {
   "cell_type": "markdown",
   "metadata": {},
   "source": [
    "# Building operators: the Sachdev-Ye-Kitaev model on Majoranas"
   ]
  },
  {
   "cell_type": "markdown",
   "metadata": {},
   "source": [
    "`dynamite` can be used for not just the obvious spin chain problems, but anything that can be mapped onto a set of spins. Here we will build a model of interacting Majoranas."
   ]
  },
  {
   "cell_type": "markdown",
   "metadata": {},
   "source": [
    "### Defining Majoranas on a spin chain\n",
    "\n",
    "There are multiple ways to define a Majorana creation/annihilation operator in a spin basis. In particular, we want to satisfy the anticommutation relation\n",
    "\n",
    "$$\\{ \\chi_i, \\chi_j \\} = 2 \\delta_{ij}$$\n",
    "\n",
    "for $i \\neq j$. It turns out we can do so with the following mapping:\n",
    "\n",
    "$$\\chi_i = \\frac{1}{2} \\sigma_{\\lfloor i/2 \\rfloor}^{x/y} \\prod_{k}^{\\lfloor i/2 \\rfloor - 1} \\sigma^z_k$$\n",
    "\n",
    "where that first Pauli matrix is $\\sigma^x$ if $i$ is even, and $\\sigma^y$ if $i$ is odd.\n",
    "\n",
    "This basis can be shown fairly easily to satisfy the anticommutation relation we desired. Now let's implement it in dynamite!"
   ]
  },
  {
   "cell_type": "markdown",
   "metadata": {},
   "source": [
    "### Implementation\n",
    "\n",
    "We need just a couple tools for this: the Pauli matrices and the product operator."
   ]
  },
  {
   "cell_type": "code",
   "execution_count": 8,
   "metadata": {},
   "outputs": [],
   "source": [
    "from dynamite.operators import sigmax, sigmay, sigmaz, index_product"
   ]
  },
  {
   "cell_type": "code",
   "execution_count": 9,
   "metadata": {},
   "outputs": [
    {
     "data": {
      "text/latex": [
       "$\\prod_{i=0}^{3}\\sigma^z_{i}$"
      ],
      "text/plain": [
       "dynamite.Operator on 4 spins:\n",
       "index_product(σz[0], sites 0 - 3)"
      ]
     },
     "execution_count": 9,
     "metadata": {},
     "output_type": "execute_result"
    }
   ],
   "source": [
    "# product of sigmaz along the spin chain up to index k\n",
    "k = 4\n",
    "index_product(sigmaz(), size=k)"
   ]
  },
  {
   "cell_type": "code",
   "execution_count": 10,
   "metadata": {},
   "outputs": [],
   "source": [
    "# with that, we can easily build our operator\n",
    "def majorana(i):\n",
    "    k = i//2\n",
    "    edge_op = sigmay(k) if (i%2) else sigmax(k)\n",
    "    bulk = index_product(sigmaz(), size=k)\n",
    "    return edge_op*bulk"
   ]
  },
  {
   "cell_type": "code",
   "execution_count": 11,
   "metadata": {},
   "outputs": [
    {
     "data": {
      "text/latex": [
       "$\\sigma^x_{4}\\left[\\prod_{i=0}^{3}\\sigma^z_{i}\\right]$"
      ],
      "text/plain": [
       "dynamite.Operator on 5 spins:\n",
       "σx[4]*[index_product(σz[0], sites 0 - 3)]"
      ]
     },
     "execution_count": 11,
     "metadata": {},
     "output_type": "execute_result"
    }
   ],
   "source": [
    "# let's check it out!\n",
    "majorana(8)"
   ]
  },
  {
   "cell_type": "markdown",
   "metadata": {},
   "source": [
    "Looks like exactly what we wanted! We can even check that the anticommutation relation holds:"
   ]
  },
  {
   "cell_type": "code",
   "execution_count": 13,
   "metadata": {},
   "outputs": [
    {
     "name": "stdout",
     "output_type": "stream",
     "text": [
      "i\tj\tcorrect\n",
      "=======================\n",
      "0\t0\tTrue\n",
      "0\t1\tTrue\n",
      "0\t2\tTrue\n",
      "1\t0\tTrue\n",
      "1\t1\tTrue\n",
      "1\t2\tTrue\n",
      "2\t0\tTrue\n",
      "2\t1\tTrue\n",
      "2\t2\tTrue\n"
     ]
    }
   ],
   "source": [
    "from dynamite.operators import zero, identity\n",
    "\n",
    "def anticommutator(a, b):\n",
    "    return a*b + b*a\n",
    "\n",
    "def check_anticom():\n",
    "\n",
    "    print('i', 'j', 'correct', sep='\\t')\n",
    "    print('=======================')\n",
    "\n",
    "    for i in range(3):\n",
    "        for j in range(3):\n",
    "            if i == j:\n",
    "                correct_val = 2*identity()\n",
    "            else:\n",
    "                correct_val = zero()\n",
    "\n",
    "            print(i, j, anticommutator(majorana(i), majorana(j)) == correct_val, sep='\\t')\n",
    "            \n",
    "check_anticom()"
   ]
  },
  {
   "cell_type": "markdown",
   "metadata": {},
   "source": [
    "It was instructive to build it ourselves, but `dynamite` actually has a Majorana operator built-in, for ease of use. It is the same as ours:"
   ]
  },
  {
   "cell_type": "code",
   "execution_count": 14,
   "metadata": {},
   "outputs": [],
   "source": [
    "# rename our function, so that we can set majorana to be the dynamite one\n",
    "my_majorana = majorana\n",
    "\n",
    "from dynamite.extras import majorana"
   ]
  },
  {
   "cell_type": "code",
   "execution_count": 15,
   "metadata": {},
   "outputs": [
    {
     "data": {
      "text/latex": [
       "$\\chi_{8}$"
      ],
      "text/plain": [
       "dynamite.Operator on 5 spins:\n",
       "χ[8]"
      ]
     },
     "execution_count": 15,
     "metadata": {},
     "output_type": "execute_result"
    }
   ],
   "source": [
    "majorana(8)"
   ]
  },
  {
   "cell_type": "code",
   "execution_count": 16,
   "metadata": {},
   "outputs": [
    {
     "data": {
      "text/plain": [
       "True"
      ]
     },
     "execution_count": 16,
     "metadata": {},
     "output_type": "execute_result"
    }
   ],
   "source": [
    "majorana(8) == my_majorana(8)"
   ]
  },
  {
   "cell_type": "markdown",
   "metadata": {},
   "source": [
    "### Definition of the SYK Hamltonian"
   ]
  },
  {
   "cell_type": "markdown",
   "metadata": {},
   "source": [
    "We want to build the model\n",
    "\n",
    "$$H_{\\text{SYK}} = \\sum_{i,j,k,l} J_{ijkl} \\cdot \\chi_i \\chi_j \\chi_k \\chi_l$$\n",
    "\n",
    "where the $\\chi_i$ represent a Majorana creation/annihilation operator for particle index $i$, and the $J_{ijkl}$ are some random coefficients."
   ]
  },
  {
   "cell_type": "markdown",
   "metadata": {},
   "source": [
    "First we must import the things we need:"
   ]
  },
  {
   "cell_type": "code",
   "execution_count": 17,
   "metadata": {},
   "outputs": [],
   "source": [
    "from dynamite.operators import op_sum, op_product, index_sum"
   ]
  },
  {
   "cell_type": "markdown",
   "metadata": {},
   "source": [
    "We need to generate all combinations of indices for i,j,k,l, without repeats. Sounds like a task for Python's `itertools`:"
   ]
  },
  {
   "cell_type": "code",
   "execution_count": 18,
   "metadata": {},
   "outputs": [],
   "source": [
    "from itertools import combinations\n",
    "\n",
    "def get_all_indices(n):\n",
    "    '''\n",
    "    Get all combinations of indices i,j,k,l for a system of n Majoranas.\n",
    "    '''\n",
    "    return combinations(range(n), 4)"
   ]
  },
  {
   "cell_type": "code",
   "execution_count": 19,
   "metadata": {},
   "outputs": [
    {
     "name": "stdout",
     "output_type": "stream",
     "text": [
      "(0, 1, 2, 3)\n",
      "(0, 1, 2, 4)\n",
      "(0, 1, 2, 5)\n",
      "(0, 1, 3, 4)\n",
      "(0, 1, 3, 5)\n",
      "(0, 1, 4, 5)\n",
      "(0, 2, 3, 4)\n",
      "...\n"
     ]
    }
   ],
   "source": [
    "# does it do what we expect?\n",
    "for n,idxs in enumerate(get_all_indices(6)):\n",
    "    print(idxs)\n",
    "    if n > 5:\n",
    "        break\n",
    "        \n",
    "print('...')"
   ]
  },
  {
   "cell_type": "markdown",
   "metadata": {},
   "source": [
    "Looks good! Now let's use that to build the Hamiltonian:"
   ]
  },
  {
   "cell_type": "code",
   "execution_count": 20,
   "metadata": {},
   "outputs": [],
   "source": [
    "import numpy as np\n",
    "from numpy.random import seed, normal\n",
    "\n",
    "# abbreviate\n",
    "maj = majorana\n",
    "\n",
    "def syk_hamiltonian(n, random_seed=0):\n",
    "    '''\n",
    "    Build the SYK Hamiltonian for a system of n Majoranas.\n",
    "    '''\n",
    "    # so the norm scales correctly\n",
    "    factor = np.sqrt(6/(n**3))/4\n",
    "    \n",
    "    # it's very important to have the same seed on each process if we run in parallel!\n",
    "    # if we don't set the seed, each process will have a different operator!!\n",
    "    seed(random_seed)\n",
    "    \n",
    "    return op_sum(factor*normal(-1,1)*maj(i)*maj(j)*maj(k)*maj(l) for i,j,k,l in get_all_indices(n))"
   ]
  },
  {
   "cell_type": "markdown",
   "metadata": {},
   "source": [
    "Let's try it for a (very) small system!"
   ]
  },
  {
   "cell_type": "code",
   "execution_count": 21,
   "metadata": {},
   "outputs": [
    {
     "data": {
      "text/latex": [
       "$0.042*\\chi_{0}\\chi_{1}\\chi_{2}\\chi_{3} + -0.033*\\chi_{0}\\chi_{1}\\chi_{2}\\chi_{4} + -0.001*\\chi_{0}\\chi_{1}\\chi_{3}\\chi_{4} + \\cdots$"
      ],
      "text/plain": [
       "dynamite.Operator on 3 spins:\n",
       "0.042*χ[0]*χ[1]*χ[2]*χ[3] + -0.033*χ[0]*χ[1]*χ[2]*χ[4] + -0.001*χ[0]*χ[1]*χ[3]*χ[4] + ..."
      ]
     },
     "execution_count": 21,
     "metadata": {},
     "output_type": "execute_result"
    }
   ],
   "source": [
    "syk_hamiltonian(5)"
   ]
  },
  {
   "cell_type": "markdown",
   "metadata": {},
   "source": [
    "Neat, looks good! Why don't we build it for a bigger system, say 16 Majoranas? (which lives on 8 spins)"
   ]
  },
  {
   "cell_type": "code",
   "execution_count": 22,
   "metadata": {},
   "outputs": [],
   "source": [
    "H = syk_hamiltonian(16)"
   ]
  },
  {
   "cell_type": "markdown",
   "metadata": {},
   "source": [
    "#### Improving operator build performance"
   ]
  },
  {
   "cell_type": "markdown",
   "metadata": {},
   "source": [
    "Yikes, that was awfully slow for such a small system size. The problem is that the individual Majorana operators are being rebuilt for every term of the sum, and there are a lot of terms. Maybe we can do better by precomputing the Majorana operators. We also use `op_product` and `operator.scale` to avoid making unnecessary copies."
   ]
  },
  {
   "cell_type": "code",
   "execution_count": 23,
   "metadata": {},
   "outputs": [],
   "source": [
    "def syk_hamiltonian_fast(n, random_seed=0):\n",
    "    '''\n",
    "    Build the SYK Hamiltonian for a system of n Majoranas.\n",
    "    '''\n",
    "    factor = np.sqrt(6/(n**3))/4\n",
    "    seed(random_seed)\n",
    "    \n",
    "    majs = [maj(i) for i in range(n)]\n",
    "    return op_sum(op_product(majs[i] for i in idxs).scale(factor*normal(-1,1)) for idxs in get_all_indices(n))"
   ]
  },
  {
   "cell_type": "code",
   "execution_count": 24,
   "metadata": {},
   "outputs": [],
   "source": [
    "# make sure they agree\n",
    "assert(syk_hamiltonian(10) == syk_hamiltonian_fast(10))"
   ]
  },
  {
   "cell_type": "code",
   "execution_count": 25,
   "metadata": {},
   "outputs": [
    {
     "name": "stdout",
     "output_type": "stream",
     "text": [
      "syk_hamiltonian:      2.7744467510001414 s\n",
      "syk_hamiltonian_fast: 0.3729565649991855 s\n"
     ]
    }
   ],
   "source": [
    "# check which one is faster!\n",
    "from timeit import timeit\n",
    "orig = timeit('syk_hamiltonian(16)', number=1, globals=globals())\n",
    "fast = timeit('syk_hamiltonian_fast(16)', number=1, globals=globals())\n",
    "\n",
    "print('syk_hamiltonian:     ', orig, 's')\n",
    "print('syk_hamiltonian_fast:', fast, 's')"
   ]
  },
  {
   "cell_type": "markdown",
   "metadata": {},
   "source": [
    "That's a huge speedup!"
   ]
  },
  {
   "cell_type": "markdown",
   "metadata": {},
   "source": [
    "One last thing to note. It may seem odd that we've never actually specified a spin chain length during this whole process. Don't we need to tell dynamite how many spins we need, and thus how big to make our matrices? If the spin chain length is not specified, dynamite just assumes it to extend to the position of the last non-trivial Pauli operator:"
   ]
  },
  {
   "cell_type": "code",
   "execution_count": 28,
   "metadata": {},
   "outputs": [
    {
     "name": "stdout",
     "output_type": "stream",
     "text": [
      "spin chain length: 5\n"
     ]
    }
   ],
   "source": [
    "m8 = majorana(8)\n",
    "print('spin chain length:', m8.get_length())"
   ]
  },
  {
   "cell_type": "markdown",
   "metadata": {},
   "source": [
    "We can use `operator.table()` to take a look at it:"
   ]
  },
  {
   "cell_type": "code",
   "execution_count": 29,
   "metadata": {},
   "outputs": [
    {
     "name": "stdout",
     "output_type": "stream",
     "text": [
      "   coeff. | operator \n",
      "=====================\n",
      "    1.000 | ZZZZX\n"
     ]
    }
   ],
   "source": [
    "print(m8.table())"
   ]
  },
  {
   "cell_type": "markdown",
   "metadata": {},
   "source": [
    "The last non-identity operator is on spin index 4, so a 5-spin chain makes sense."
   ]
  }
 ],
 "metadata": {
  "kernelspec": {
   "display_name": "dnm-opt",
   "language": "python",
   "name": "dnm-opt"
  },
  "language_info": {
   "codemirror_mode": {
    "name": "ipython",
    "version": 3
   },
   "file_extension": ".py",
   "mimetype": "text/x-python",
   "name": "python",
   "nbconvert_exporter": "python",
   "pygments_lexer": "ipython3",
   "version": "3.6.6"
  }
 },
 "nbformat": 4,
 "nbformat_minor": 2
}
